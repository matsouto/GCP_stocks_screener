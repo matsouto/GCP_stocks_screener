{
 "cells": [
  {
   "cell_type": "code",
   "execution_count": 2,
   "metadata": {},
   "outputs": [],
   "source": [
    "import smtplib\n",
    "import json\n",
    "from tabulate import tabulate\n",
    "from email.mime.text import MIMEText\n",
    "import yfinance as yf\n",
    "import pandas as pd\n",
    "import plotly.express as px\n",
    "from datetime import datetime, timedelta"
   ]
  },
  {
   "cell_type": "code",
   "execution_count": 3,
   "metadata": {},
   "outputs": [],
   "source": [
    "oversold = 25\n",
    "period = 2\n",
    "timeframe = \"1d\""
   ]
  },
  {
   "cell_type": "code",
   "execution_count": 4,
   "metadata": {},
   "outputs": [
    {
     "data": {
      "text/html": [
       "<div>\n",
       "<style scoped>\n",
       "    .dataframe tbody tr th:only-of-type {\n",
       "        vertical-align: middle;\n",
       "    }\n",
       "\n",
       "    .dataframe tbody tr th {\n",
       "        vertical-align: top;\n",
       "    }\n",
       "\n",
       "    .dataframe thead th {\n",
       "        text-align: right;\n",
       "    }\n",
       "</style>\n",
       "<table border=\"1\" class=\"dataframe\">\n",
       "  <thead>\n",
       "    <tr style=\"text-align: right;\">\n",
       "      <th></th>\n",
       "      <th>Ticker</th>\n",
       "      <th>Total Trades</th>\n",
       "      <th>Profitable %</th>\n",
       "      <th>Gain Factor</th>\n",
       "      <th>Max Drawdown</th>\n",
       "      <th>Mean Transaction</th>\n",
       "      <th>Total Candles</th>\n",
       "    </tr>\n",
       "  </thead>\n",
       "  <tbody>\n",
       "    <tr>\n",
       "      <th>0</th>\n",
       "      <td>CPLE6</td>\n",
       "      <td>237</td>\n",
       "      <td>71.31</td>\n",
       "      <td>2.521</td>\n",
       "      <td>38.86</td>\n",
       "      <td>1.09</td>\n",
       "      <td>5</td>\n",
       "    </tr>\n",
       "    <tr>\n",
       "      <th>1</th>\n",
       "      <td>TAEE11</td>\n",
       "      <td>220</td>\n",
       "      <td>76.35</td>\n",
       "      <td>2.576</td>\n",
       "      <td>14.87</td>\n",
       "      <td>0.82</td>\n",
       "      <td>5</td>\n",
       "    </tr>\n",
       "    <tr>\n",
       "      <th>2</th>\n",
       "      <td>VIVT3</td>\n",
       "      <td>248</td>\n",
       "      <td>77.42</td>\n",
       "      <td>2.769</td>\n",
       "      <td>13.94</td>\n",
       "      <td>0.99</td>\n",
       "      <td>4</td>\n",
       "    </tr>\n",
       "    <tr>\n",
       "      <th>3</th>\n",
       "      <td>ELET3</td>\n",
       "      <td>238</td>\n",
       "      <td>64.71</td>\n",
       "      <td>1.165</td>\n",
       "      <td>40.14</td>\n",
       "      <td>0.42</td>\n",
       "      <td>5</td>\n",
       "    </tr>\n",
       "    <tr>\n",
       "      <th>4</th>\n",
       "      <td>SLCE3</td>\n",
       "      <td>220</td>\n",
       "      <td>72.73</td>\n",
       "      <td>1.701</td>\n",
       "      <td>30.12</td>\n",
       "      <td>0.91</td>\n",
       "      <td>5</td>\n",
       "    </tr>\n",
       "    <tr>\n",
       "      <th>...</th>\n",
       "      <td>...</td>\n",
       "      <td>...</td>\n",
       "      <td>...</td>\n",
       "      <td>...</td>\n",
       "      <td>...</td>\n",
       "      <td>...</td>\n",
       "      <td>...</td>\n",
       "    </tr>\n",
       "    <tr>\n",
       "      <th>67</th>\n",
       "      <td>HYPE3</td>\n",
       "      <td>224</td>\n",
       "      <td>69.64</td>\n",
       "      <td>1.466</td>\n",
       "      <td>28.37</td>\n",
       "      <td>0.48</td>\n",
       "      <td>5</td>\n",
       "    </tr>\n",
       "    <tr>\n",
       "      <th>68</th>\n",
       "      <td>ALPA3</td>\n",
       "      <td>227</td>\n",
       "      <td>70.48</td>\n",
       "      <td>1.311</td>\n",
       "      <td>51.98</td>\n",
       "      <td>0.76</td>\n",
       "      <td>4</td>\n",
       "    </tr>\n",
       "    <tr>\n",
       "      <th>69</th>\n",
       "      <td>SBSP3</td>\n",
       "      <td>227</td>\n",
       "      <td>69.60</td>\n",
       "      <td>1.244</td>\n",
       "      <td>47.11</td>\n",
       "      <td>0.41</td>\n",
       "      <td>5</td>\n",
       "    </tr>\n",
       "    <tr>\n",
       "      <th>70</th>\n",
       "      <td>PETR3</td>\n",
       "      <td>218</td>\n",
       "      <td>68.35</td>\n",
       "      <td>1.356</td>\n",
       "      <td>66.05</td>\n",
       "      <td>0.82</td>\n",
       "      <td>5</td>\n",
       "    </tr>\n",
       "    <tr>\n",
       "      <th>71</th>\n",
       "      <td>CRFB3</td>\n",
       "      <td>183</td>\n",
       "      <td>73.22</td>\n",
       "      <td>1.227</td>\n",
       "      <td>38.12</td>\n",
       "      <td>0.51</td>\n",
       "      <td>5</td>\n",
       "    </tr>\n",
       "  </tbody>\n",
       "</table>\n",
       "<p>72 rows × 7 columns</p>\n",
       "</div>"
      ],
      "text/plain": [
       "    Ticker  Total Trades  Profitable %  Gain Factor  Max Drawdown  \\\n",
       "0    CPLE6           237         71.31        2.521         38.86   \n",
       "1   TAEE11           220         76.35        2.576         14.87   \n",
       "2    VIVT3           248         77.42        2.769         13.94   \n",
       "3    ELET3           238         64.71        1.165         40.14   \n",
       "4    SLCE3           220         72.73        1.701         30.12   \n",
       "..     ...           ...           ...          ...           ...   \n",
       "67   HYPE3           224         69.64        1.466         28.37   \n",
       "68   ALPA3           227         70.48        1.311         51.98   \n",
       "69   SBSP3           227         69.60        1.244         47.11   \n",
       "70   PETR3           218         68.35        1.356         66.05   \n",
       "71   CRFB3           183         73.22        1.227         38.12   \n",
       "\n",
       "    Mean Transaction  Total Candles  \n",
       "0               1.09              5  \n",
       "1               0.82              5  \n",
       "2               0.99              4  \n",
       "3               0.42              5  \n",
       "4               0.91              5  \n",
       "..               ...            ...  \n",
       "67              0.48              5  \n",
       "68              0.76              4  \n",
       "69              0.41              5  \n",
       "70              0.82              5  \n",
       "71              0.51              5  \n",
       "\n",
       "[72 rows x 7 columns]"
      ]
     },
     "execution_count": 4,
     "metadata": {},
     "output_type": "execute_result"
    }
   ],
   "source": [
    "'''\n",
    "The backtesting results were obtained using TradingView for the following parameters:\n",
    "oversold <= 25\n",
    "time period: 01-01-2015 to 30-05-2024\n",
    "Only the best performing stocks were selected!\n",
    "'''\n",
    "\n",
    "backtesting_result = pd.read_csv(\"./ifr2_best_stocks_backtesting.csv\")\n",
    "backtesting_result"
   ]
  },
  {
   "cell_type": "code",
   "execution_count": 5,
   "metadata": {},
   "outputs": [],
   "source": [
    "# Define a custom scaling function\n",
    "def custom_scale(series, scale_factor=10):\n",
    "    min_val = series.min()\n",
    "    max_val = series.max()\n",
    "    return ((series - min_val) / (max_val - min_val) * scale_factor) + 1\n",
    "\n",
    "# Apply the custom scaling function\n",
    "backtesting_result['Total Candles Scaled'] = custom_scale(backtesting_result['Total Candles'])\n",
    "backtesting_result[\"Greatness Factor\"] = backtesting_result[\"Gain Factor\"] * backtesting_result[\"Profitable %\"]\n",
    "backtesting_result[\"Greatness Factor Scaled\"] = custom_scale(backtesting_result[\"Greatness Factor\"], 50)\n",
    "backtesting_result.sort_values(by=\"Greatness Factor\", inplace=True)\n",
    "backtesting_result.reset_index(inplace=True)"
   ]
  },
  {
   "cell_type": "code",
   "execution_count": 6,
   "metadata": {},
   "outputs": [
    {
     "data": {
      "application/vnd.plotly.v1+json": {
       "config": {
        "plotlyServerURL": "https://plot.ly"
       },
       "data": [
        {
         "hovertemplate": "Profitable %=%{x}<br>Gain Factor=%{y}<br>Total Trades=%{z}<br>Total Candles Scaled=%{marker.size}<br>Ticker=%{text}<br>Max Drawdown=%{marker.color}<extra></extra>",
         "legendgroup": "",
         "marker": {
          "color": [
           59.85,
           40.14,
           80.08,
           42.2,
           48.14,
           68.96,
           51.56,
           43.14,
           40.46,
           31.56,
           53.97,
           47.11,
           51.32,
           30.43,
           47.51,
           38.12,
           31.25,
           53.8,
           36.13,
           51.98,
           66.05,
           33.14,
           46.04,
           43.53,
           46.57,
           47.47,
           38.79,
           36.03,
           36.2,
           55.13,
           44.28,
           28.37,
           51.44,
           65.77,
           72,
           32.07,
           31.41,
           48.81,
           25.99,
           60.84,
           39.75,
           43.96,
           37.05,
           39.99,
           43.28,
           40.01,
           43.9,
           37.98,
           42.14,
           25.29,
           30.12,
           14.22,
           27.18,
           44.87,
           21.33,
           35.5,
           36.45,
           26.99,
           30.92,
           35.64,
           47.55,
           24.43,
           38.86,
           31.31,
           14.87,
           42.63,
           13.94,
           32.99,
           18.58,
           15.07,
           32.23,
           22.34
          ],
          "coloraxis": "coloraxis",
          "size": [
           1,
           11,
           11,
           11,
           11,
           11,
           1,
           11,
           11,
           11,
           11,
           11,
           11,
           11,
           11,
           11,
           11,
           11,
           11,
           1,
           11,
           11,
           11,
           11,
           11,
           11,
           11,
           11,
           11,
           11,
           11,
           11,
           1,
           11,
           11,
           1,
           11,
           11,
           11,
           11,
           11,
           1,
           1,
           11,
           1,
           11,
           11,
           11,
           1,
           11,
           11,
           11,
           11,
           11,
           11,
           1,
           11,
           1,
           11,
           11,
           1,
           1,
           11,
           1,
           11,
           1,
           1,
           1,
           1,
           1,
           1,
           1
          ],
          "sizemode": "area",
          "sizeref": 0.012222222222222223,
          "symbol": "circle"
         },
         "mode": "markers+text",
         "name": "",
         "scene": "scene",
         "showlegend": false,
         "text": [
          "INEP3",
          "ELET3",
          "RCSL3",
          "PSSA3",
          "DXCO3",
          "POSI3",
          "INEP4",
          "MRVE3",
          "ECOR3",
          "NTCO3",
          "FLRY3",
          "SBSP3",
          "BRAP4",
          "BBSE3",
          "EZTC3",
          "CRFB3",
          "AURE3",
          "JBSS3",
          "LREN3",
          "ALPA3",
          "PETR3",
          "ARZZ3",
          "VALE3",
          "UGPA3",
          "ENAT3",
          "TELB4",
          "VBBR3",
          "RADL3",
          "B3SA3",
          "RENT3",
          "WEGE3",
          "HYPE3",
          "MGEL4",
          "PETR4",
          "PRIO3",
          "ENGI11",
          "ITSA4",
          "BIOM3",
          "TIMS3",
          "ATOM3",
          "TOTS3",
          "CPFE3",
          "OSXB3",
          "ABEV3",
          "MULT3",
          "SANB11",
          "VULC3",
          "ABCB4",
          "ENEV3",
          "ITUB3",
          "SLCE3",
          "EGIE3",
          "CCRO3",
          "SHUL4",
          "TRPL4",
          "SANB3",
          "EQTL3",
          "BPAC3",
          "UCAS3",
          "SANB4",
          "MNPR3",
          "ENGI3",
          "CPLE6",
          "MTSA4",
          "TAEE11",
          "PTNT4",
          "VIVT3",
          "BMEB4",
          "TRPL3",
          "ENGI4",
          "MNDL3",
          "REDE3"
         ],
         "type": "scatter3d",
         "x": [
          63.47,
          64.71,
          68.72,
          68.54,
          66.67,
          70.64,
          71.14,
          67.61,
          66.53,
          67.23,
          67.92,
          69.6,
          68.4,
          66.97,
          68.94,
          73.22,
          68.67,
          71.43,
          69.46,
          70.48,
          68.35,
          69.07,
          66.96,
          68.07,
          66.67,
          70.87,
          70.55,
          70.91,
          68.24,
          72.88,
          73.01,
          69.64,
          66.09,
          70.72,
          71.75,
          71.76,
          70.94,
          74.89,
          67.23,
          68.37,
          70.09,
          71.75,
          70.31,
          72.08,
          71.31,
          74.49,
          70.8,
          68.62,
          70.48,
          72.4,
          72.73,
          70.87,
          70.85,
          75.11,
          71.93,
          74.79,
          73.19,
          69.44,
          73.97,
          77.24,
          76.99,
          73.23,
          71.31,
          77.06,
          76.35,
          78.08,
          77.42,
          82.84,
          83.94,
          79.37,
          77.84,
          77.11
         ],
         "y": [
          1.161,
          1.165,
          1.103,
          1.114,
          1.153,
          1.128,
          1.194,
          1.257,
          1.286,
          1.285,
          1.274,
          1.244,
          1.279,
          1.332,
          1.301,
          1.227,
          1.314,
          1.274,
          1.313,
          1.311,
          1.356,
          1.345,
          1.401,
          1.403,
          1.434,
          1.369,
          1.388,
          1.392,
          1.453,
          1.361,
          1.379,
          1.466,
          1.545,
          1.446,
          1.426,
          1.45,
          1.474,
          1.425,
          1.591,
          1.613,
          1.609,
          1.589,
          1.65,
          1.623,
          1.641,
          1.578,
          1.684,
          1.741,
          1.723,
          1.703,
          1.701,
          1.751,
          1.837,
          1.778,
          1.859,
          1.793,
          1.883,
          2.034,
          1.964,
          2.036,
          2.209,
          2.43,
          2.521,
          2.411,
          2.576,
          2.548,
          2.769,
          2.683,
          3.439,
          4.667,
          5.528,
          6
         ],
         "z": [
          219,
          238,
          211,
          213,
          234,
          235,
          246,
          247,
          242,
          235,
          240,
          227,
          231,
          221,
          235,
          183,
          233,
          224,
          239,
          227,
          218,
          236,
          224,
          238,
          228,
          254,
          163,
          220,
          233,
          236,
          226,
          224,
          230,
          222,
          223,
          216,
          234,
          223,
          235,
          215,
          234,
          223,
          256,
          240,
          251,
          243,
          226,
          239,
          227,
          250,
          220,
          230,
          247,
          233,
          228,
          234,
          235,
          144,
          242,
          246,
          239,
          194,
          237,
          231,
          220,
          219,
          248,
          204,
          193,
          223,
          194,
          166
         ]
        }
       ],
       "layout": {
        "coloraxis": {
         "colorbar": {
          "title": {
           "text": "Max Drawdown"
          }
         },
         "colorscale": [
          [
           0,
           "#0d0887"
          ],
          [
           0.1111111111111111,
           "#46039f"
          ],
          [
           0.2222222222222222,
           "#7201a8"
          ],
          [
           0.3333333333333333,
           "#9c179e"
          ],
          [
           0.4444444444444444,
           "#bd3786"
          ],
          [
           0.5555555555555556,
           "#d8576b"
          ],
          [
           0.6666666666666666,
           "#ed7953"
          ],
          [
           0.7777777777777778,
           "#fb9f3a"
          ],
          [
           0.8888888888888888,
           "#fdca26"
          ],
          [
           1,
           "#f0f921"
          ]
         ]
        },
        "legend": {
         "itemsizing": "constant",
         "tracegroupgap": 0
        },
        "margin": {
         "t": 60
        },
        "scene": {
         "domain": {
          "x": [
           0,
           1
          ],
          "y": [
           0,
           1
          ]
         },
         "xaxis": {
          "title": {
           "text": "Profitable %"
          }
         },
         "yaxis": {
          "title": {
           "text": "Gain Factor"
          }
         },
         "zaxis": {
          "title": {
           "text": "Total Trades"
          }
         }
        },
        "template": {
         "data": {
          "bar": [
           {
            "error_x": {
             "color": "#2a3f5f"
            },
            "error_y": {
             "color": "#2a3f5f"
            },
            "marker": {
             "line": {
              "color": "#E5ECF6",
              "width": 0.5
             },
             "pattern": {
              "fillmode": "overlay",
              "size": 10,
              "solidity": 0.2
             }
            },
            "type": "bar"
           }
          ],
          "barpolar": [
           {
            "marker": {
             "line": {
              "color": "#E5ECF6",
              "width": 0.5
             },
             "pattern": {
              "fillmode": "overlay",
              "size": 10,
              "solidity": 0.2
             }
            },
            "type": "barpolar"
           }
          ],
          "carpet": [
           {
            "aaxis": {
             "endlinecolor": "#2a3f5f",
             "gridcolor": "white",
             "linecolor": "white",
             "minorgridcolor": "white",
             "startlinecolor": "#2a3f5f"
            },
            "baxis": {
             "endlinecolor": "#2a3f5f",
             "gridcolor": "white",
             "linecolor": "white",
             "minorgridcolor": "white",
             "startlinecolor": "#2a3f5f"
            },
            "type": "carpet"
           }
          ],
          "choropleth": [
           {
            "colorbar": {
             "outlinewidth": 0,
             "ticks": ""
            },
            "type": "choropleth"
           }
          ],
          "contour": [
           {
            "colorbar": {
             "outlinewidth": 0,
             "ticks": ""
            },
            "colorscale": [
             [
              0,
              "#0d0887"
             ],
             [
              0.1111111111111111,
              "#46039f"
             ],
             [
              0.2222222222222222,
              "#7201a8"
             ],
             [
              0.3333333333333333,
              "#9c179e"
             ],
             [
              0.4444444444444444,
              "#bd3786"
             ],
             [
              0.5555555555555556,
              "#d8576b"
             ],
             [
              0.6666666666666666,
              "#ed7953"
             ],
             [
              0.7777777777777778,
              "#fb9f3a"
             ],
             [
              0.8888888888888888,
              "#fdca26"
             ],
             [
              1,
              "#f0f921"
             ]
            ],
            "type": "contour"
           }
          ],
          "contourcarpet": [
           {
            "colorbar": {
             "outlinewidth": 0,
             "ticks": ""
            },
            "type": "contourcarpet"
           }
          ],
          "heatmap": [
           {
            "colorbar": {
             "outlinewidth": 0,
             "ticks": ""
            },
            "colorscale": [
             [
              0,
              "#0d0887"
             ],
             [
              0.1111111111111111,
              "#46039f"
             ],
             [
              0.2222222222222222,
              "#7201a8"
             ],
             [
              0.3333333333333333,
              "#9c179e"
             ],
             [
              0.4444444444444444,
              "#bd3786"
             ],
             [
              0.5555555555555556,
              "#d8576b"
             ],
             [
              0.6666666666666666,
              "#ed7953"
             ],
             [
              0.7777777777777778,
              "#fb9f3a"
             ],
             [
              0.8888888888888888,
              "#fdca26"
             ],
             [
              1,
              "#f0f921"
             ]
            ],
            "type": "heatmap"
           }
          ],
          "heatmapgl": [
           {
            "colorbar": {
             "outlinewidth": 0,
             "ticks": ""
            },
            "colorscale": [
             [
              0,
              "#0d0887"
             ],
             [
              0.1111111111111111,
              "#46039f"
             ],
             [
              0.2222222222222222,
              "#7201a8"
             ],
             [
              0.3333333333333333,
              "#9c179e"
             ],
             [
              0.4444444444444444,
              "#bd3786"
             ],
             [
              0.5555555555555556,
              "#d8576b"
             ],
             [
              0.6666666666666666,
              "#ed7953"
             ],
             [
              0.7777777777777778,
              "#fb9f3a"
             ],
             [
              0.8888888888888888,
              "#fdca26"
             ],
             [
              1,
              "#f0f921"
             ]
            ],
            "type": "heatmapgl"
           }
          ],
          "histogram": [
           {
            "marker": {
             "pattern": {
              "fillmode": "overlay",
              "size": 10,
              "solidity": 0.2
             }
            },
            "type": "histogram"
           }
          ],
          "histogram2d": [
           {
            "colorbar": {
             "outlinewidth": 0,
             "ticks": ""
            },
            "colorscale": [
             [
              0,
              "#0d0887"
             ],
             [
              0.1111111111111111,
              "#46039f"
             ],
             [
              0.2222222222222222,
              "#7201a8"
             ],
             [
              0.3333333333333333,
              "#9c179e"
             ],
             [
              0.4444444444444444,
              "#bd3786"
             ],
             [
              0.5555555555555556,
              "#d8576b"
             ],
             [
              0.6666666666666666,
              "#ed7953"
             ],
             [
              0.7777777777777778,
              "#fb9f3a"
             ],
             [
              0.8888888888888888,
              "#fdca26"
             ],
             [
              1,
              "#f0f921"
             ]
            ],
            "type": "histogram2d"
           }
          ],
          "histogram2dcontour": [
           {
            "colorbar": {
             "outlinewidth": 0,
             "ticks": ""
            },
            "colorscale": [
             [
              0,
              "#0d0887"
             ],
             [
              0.1111111111111111,
              "#46039f"
             ],
             [
              0.2222222222222222,
              "#7201a8"
             ],
             [
              0.3333333333333333,
              "#9c179e"
             ],
             [
              0.4444444444444444,
              "#bd3786"
             ],
             [
              0.5555555555555556,
              "#d8576b"
             ],
             [
              0.6666666666666666,
              "#ed7953"
             ],
             [
              0.7777777777777778,
              "#fb9f3a"
             ],
             [
              0.8888888888888888,
              "#fdca26"
             ],
             [
              1,
              "#f0f921"
             ]
            ],
            "type": "histogram2dcontour"
           }
          ],
          "mesh3d": [
           {
            "colorbar": {
             "outlinewidth": 0,
             "ticks": ""
            },
            "type": "mesh3d"
           }
          ],
          "parcoords": [
           {
            "line": {
             "colorbar": {
              "outlinewidth": 0,
              "ticks": ""
             }
            },
            "type": "parcoords"
           }
          ],
          "pie": [
           {
            "automargin": true,
            "type": "pie"
           }
          ],
          "scatter": [
           {
            "fillpattern": {
             "fillmode": "overlay",
             "size": 10,
             "solidity": 0.2
            },
            "type": "scatter"
           }
          ],
          "scatter3d": [
           {
            "line": {
             "colorbar": {
              "outlinewidth": 0,
              "ticks": ""
             }
            },
            "marker": {
             "colorbar": {
              "outlinewidth": 0,
              "ticks": ""
             }
            },
            "type": "scatter3d"
           }
          ],
          "scattercarpet": [
           {
            "marker": {
             "colorbar": {
              "outlinewidth": 0,
              "ticks": ""
             }
            },
            "type": "scattercarpet"
           }
          ],
          "scattergeo": [
           {
            "marker": {
             "colorbar": {
              "outlinewidth": 0,
              "ticks": ""
             }
            },
            "type": "scattergeo"
           }
          ],
          "scattergl": [
           {
            "marker": {
             "colorbar": {
              "outlinewidth": 0,
              "ticks": ""
             }
            },
            "type": "scattergl"
           }
          ],
          "scattermapbox": [
           {
            "marker": {
             "colorbar": {
              "outlinewidth": 0,
              "ticks": ""
             }
            },
            "type": "scattermapbox"
           }
          ],
          "scatterpolar": [
           {
            "marker": {
             "colorbar": {
              "outlinewidth": 0,
              "ticks": ""
             }
            },
            "type": "scatterpolar"
           }
          ],
          "scatterpolargl": [
           {
            "marker": {
             "colorbar": {
              "outlinewidth": 0,
              "ticks": ""
             }
            },
            "type": "scatterpolargl"
           }
          ],
          "scatterternary": [
           {
            "marker": {
             "colorbar": {
              "outlinewidth": 0,
              "ticks": ""
             }
            },
            "type": "scatterternary"
           }
          ],
          "surface": [
           {
            "colorbar": {
             "outlinewidth": 0,
             "ticks": ""
            },
            "colorscale": [
             [
              0,
              "#0d0887"
             ],
             [
              0.1111111111111111,
              "#46039f"
             ],
             [
              0.2222222222222222,
              "#7201a8"
             ],
             [
              0.3333333333333333,
              "#9c179e"
             ],
             [
              0.4444444444444444,
              "#bd3786"
             ],
             [
              0.5555555555555556,
              "#d8576b"
             ],
             [
              0.6666666666666666,
              "#ed7953"
             ],
             [
              0.7777777777777778,
              "#fb9f3a"
             ],
             [
              0.8888888888888888,
              "#fdca26"
             ],
             [
              1,
              "#f0f921"
             ]
            ],
            "type": "surface"
           }
          ],
          "table": [
           {
            "cells": {
             "fill": {
              "color": "#EBF0F8"
             },
             "line": {
              "color": "white"
             }
            },
            "header": {
             "fill": {
              "color": "#C8D4E3"
             },
             "line": {
              "color": "white"
             }
            },
            "type": "table"
           }
          ]
         },
         "layout": {
          "annotationdefaults": {
           "arrowcolor": "#2a3f5f",
           "arrowhead": 0,
           "arrowwidth": 1
          },
          "autotypenumbers": "strict",
          "coloraxis": {
           "colorbar": {
            "outlinewidth": 0,
            "ticks": ""
           }
          },
          "colorscale": {
           "diverging": [
            [
             0,
             "#8e0152"
            ],
            [
             0.1,
             "#c51b7d"
            ],
            [
             0.2,
             "#de77ae"
            ],
            [
             0.3,
             "#f1b6da"
            ],
            [
             0.4,
             "#fde0ef"
            ],
            [
             0.5,
             "#f7f7f7"
            ],
            [
             0.6,
             "#e6f5d0"
            ],
            [
             0.7,
             "#b8e186"
            ],
            [
             0.8,
             "#7fbc41"
            ],
            [
             0.9,
             "#4d9221"
            ],
            [
             1,
             "#276419"
            ]
           ],
           "sequential": [
            [
             0,
             "#0d0887"
            ],
            [
             0.1111111111111111,
             "#46039f"
            ],
            [
             0.2222222222222222,
             "#7201a8"
            ],
            [
             0.3333333333333333,
             "#9c179e"
            ],
            [
             0.4444444444444444,
             "#bd3786"
            ],
            [
             0.5555555555555556,
             "#d8576b"
            ],
            [
             0.6666666666666666,
             "#ed7953"
            ],
            [
             0.7777777777777778,
             "#fb9f3a"
            ],
            [
             0.8888888888888888,
             "#fdca26"
            ],
            [
             1,
             "#f0f921"
            ]
           ],
           "sequentialminus": [
            [
             0,
             "#0d0887"
            ],
            [
             0.1111111111111111,
             "#46039f"
            ],
            [
             0.2222222222222222,
             "#7201a8"
            ],
            [
             0.3333333333333333,
             "#9c179e"
            ],
            [
             0.4444444444444444,
             "#bd3786"
            ],
            [
             0.5555555555555556,
             "#d8576b"
            ],
            [
             0.6666666666666666,
             "#ed7953"
            ],
            [
             0.7777777777777778,
             "#fb9f3a"
            ],
            [
             0.8888888888888888,
             "#fdca26"
            ],
            [
             1,
             "#f0f921"
            ]
           ]
          },
          "colorway": [
           "#636efa",
           "#EF553B",
           "#00cc96",
           "#ab63fa",
           "#FFA15A",
           "#19d3f3",
           "#FF6692",
           "#B6E880",
           "#FF97FF",
           "#FECB52"
          ],
          "font": {
           "color": "#2a3f5f"
          },
          "geo": {
           "bgcolor": "white",
           "lakecolor": "white",
           "landcolor": "#E5ECF6",
           "showlakes": true,
           "showland": true,
           "subunitcolor": "white"
          },
          "hoverlabel": {
           "align": "left"
          },
          "hovermode": "closest",
          "mapbox": {
           "style": "light"
          },
          "paper_bgcolor": "white",
          "plot_bgcolor": "#E5ECF6",
          "polar": {
           "angularaxis": {
            "gridcolor": "white",
            "linecolor": "white",
            "ticks": ""
           },
           "bgcolor": "#E5ECF6",
           "radialaxis": {
            "gridcolor": "white",
            "linecolor": "white",
            "ticks": ""
           }
          },
          "scene": {
           "xaxis": {
            "backgroundcolor": "#E5ECF6",
            "gridcolor": "white",
            "gridwidth": 2,
            "linecolor": "white",
            "showbackground": true,
            "ticks": "",
            "zerolinecolor": "white"
           },
           "yaxis": {
            "backgroundcolor": "#E5ECF6",
            "gridcolor": "white",
            "gridwidth": 2,
            "linecolor": "white",
            "showbackground": true,
            "ticks": "",
            "zerolinecolor": "white"
           },
           "zaxis": {
            "backgroundcolor": "#E5ECF6",
            "gridcolor": "white",
            "gridwidth": 2,
            "linecolor": "white",
            "showbackground": true,
            "ticks": "",
            "zerolinecolor": "white"
           }
          },
          "shapedefaults": {
           "line": {
            "color": "#2a3f5f"
           }
          },
          "ternary": {
           "aaxis": {
            "gridcolor": "white",
            "linecolor": "white",
            "ticks": ""
           },
           "baxis": {
            "gridcolor": "white",
            "linecolor": "white",
            "ticks": ""
           },
           "bgcolor": "#E5ECF6",
           "caxis": {
            "gridcolor": "white",
            "linecolor": "white",
            "ticks": ""
           }
          },
          "title": {
           "x": 0.05
          },
          "xaxis": {
           "automargin": true,
           "gridcolor": "white",
           "linecolor": "white",
           "ticks": "",
           "title": {
            "standoff": 15
           },
           "zerolinecolor": "white",
           "zerolinewidth": 2
          },
          "yaxis": {
           "automargin": true,
           "gridcolor": "white",
           "linecolor": "white",
           "ticks": "",
           "title": {
            "standoff": 15
           },
           "zerolinecolor": "white",
           "zerolinewidth": 2
          }
         }
        }
       }
      }
     },
     "metadata": {},
     "output_type": "display_data"
    }
   ],
   "source": [
    "# Create 3D scatter plot\n",
    "fig = px.scatter_3d(backtesting_result, x='Profitable %', y='Gain Factor', z='Total Trades', color=\"Max Drawdown\", size=\"Total Candles Scaled\", text=\"Ticker\", size_max=30)\n",
    "\n",
    "# Show plot\n",
    "fig.show()"
   ]
  },
  {
   "cell_type": "code",
   "execution_count": 7,
   "metadata": {},
   "outputs": [
    {
     "name": "stderr",
     "output_type": "stream",
     "text": [
      "[*********************100%%**********************]  72 of 72 completed\n"
     ]
    }
   ],
   "source": [
    "today = datetime.today()\n",
    "i_date = (today - timedelta(days=30)).strftime('%Y-%m-%d')\n",
    "f_date = today.strftime('%Y-%m-%d')\n",
    "selected_stocks = [ticker + \".SA\" for ticker in backtesting_result[\"Ticker\"]]\n",
    "\n",
    "# tickers = [ \n",
    "#     \"PETR4.SA\", \"VALE3.SA\", \"ITUB4.SA\", \"BBDC4.SA\", \"MGLU3.SA\", \"ABEV3.SA\", \"BBAS3.SA\", \"B3SA3.SA\",\n",
    "#     \"JBSS3.SA\", \"USIM5.SA\", \"WEGE3.SA\", \"SANB11.SA\", \"SUZB3.SA\", \"BRKM5.SA\", \"ELET3.SA\",\n",
    "#     \"GGBR4.SA\", \"CEAB3.SA\", \"CSNA3.SA\", \"ITSA4.SA\", \"RDOR3.SA\", \"BEEF3.SA\", \"LREN3.SA\",\n",
    "#     \"MULT3.SA\", \"HAPV3.SA\", \"EQTL3.SA\", \"TAEE11.SA\", \"EGIE3.SA\", \"KLBN11.SA\", \"TIMS3.SA\", \"BRFS3.SA\",\n",
    "#     \"RAIL3.SA\", \"NTCO3.SA\", \"IGTI11.SA\", \"MRFG3.SA\", \"UGPA3.SA\", \"LIGT3.SA\", \"ARZZ3.SA\", \"CCRO3.SA\",\n",
    "#     \"FLRY3.SA\", \"LWSA3.SA\", \"CYRE3.SA\", \"SOJA3.SA\", \"ENEV3.SA\", \"CPFE3.SA\", \"ALPA4.SA\", \"AESB3.SA\",\n",
    "#     \"VIVA3.SA\", \"TOTS3.SA\", \"RADL3.SA\", \"RENT3.SA\", \"AALR3.SA\", \"IRBR3.SA\", \"GOLL4.SA\",\n",
    "#     \"EZTC3.SA\", \"COGN3.SA\", \"POSI3.SA\", \"QUAL3.SA\", \"TEND3.SA\", \"JHSF3.SA\",\n",
    "#     \"TUPY3.SA\", \"SAPR11.SA\", \"CMIG4.SA\", \"SIMH3.SA\", \"BRIT3.SA\", \"PETZ3.SA\",\n",
    "#     \"BMOB3.SA\", \"BPAN4.SA\", \"ENJU3.SA\", \"MOVI3.SA\", \"TGMA3.SA\", \"BBSE3.SA\", \"MRVE3.SA\",\n",
    "#     \"EMBR3.SA\", \"CSAN3.SA\", \"CIEL3.SA\",\n",
    "#     \"NEOE3.SA\", \"ARZZ3.SA\", \"CVCB3.SA\", \"SBSP3.SA\", \"POMO4.SA\", \"PRIO3.SA\",\n",
    "#     \"PSSA3.SA\", \"ECOR3.SA\", \"LOGG3.SA\", \"CXSE3.SA\", \"YDUQ3.SA\", \"PCAR3.SA\", \"AMER3.SA\", \n",
    "#     \"HYPE3.SA\", \"GOAU4.SA\", \"ENGI11.SA\", \"CRFB3.SA\", \"BRAP4.SA\", \"BPAC11.SA\", \"AZUL4.SA\"\n",
    "# ]\n",
    "\n",
    "# Download data using yfinance\n",
    "data = yf.download(selected_stocks, start=i_date, end=f_date, interval=timeframe)"
   ]
  },
  {
   "cell_type": "code",
   "execution_count": 8,
   "metadata": {},
   "outputs": [],
   "source": [
    "close = data[\"Adj Close\"].iloc[-1]\n",
    "var = (data['Close'].iloc[-1] - data['Close'].iloc[-2]) / data['Close'].iloc[-2] * 100\n",
    "\n",
    "# Wilder method for RSI\n",
    "# This calculation was made to match TradingView's RSI\n",
    "def calculate_rsi(data, window):\n",
    "    delta = data.diff()\n",
    "    gain = delta.where(delta > 0, 0)\n",
    "    loss = -delta.where(delta < 0, 0)\n",
    "\n",
    "    avg_gain = gain.ewm(alpha=1/window, min_periods=window).mean()\n",
    "    avg_loss = loss.ewm(alpha=1/window, min_periods=window).mean()\n",
    "\n",
    "    rs = avg_gain / avg_loss\n",
    "    rsi = 100 - (100 / (1 + rs))\n",
    "    return rsi\n",
    "\n",
    "rsi = calculate_rsi(data['Close'], period).iloc[-1]\n",
    "# rsi = vbt.RSI.run(data[\"Adj Close\"], window=2).rsi.iloc[-1].loc[(2)]\n",
    "\n",
    "df = pd.DataFrame({\n",
    "    'Close': close,\n",
    "    'Var': var,\n",
    "    'RSI': rsi,\n",
    "}).reset_index(drop=False)\n",
    "\n",
    "df[\"Ticker\"] = df[\"Ticker\"].str.replace(\".SA\", \"\") # Remove \".SA\" suffix"
   ]
  },
  {
   "cell_type": "code",
   "execution_count": 9,
   "metadata": {},
   "outputs": [],
   "source": [
    "# Filtering based on oversold condition\n",
    "oversold_df = df[df[\"RSI\"] <= oversold]\n",
    "# Merging to get the previous calculated columns\n",
    "oversold_df = oversold_df.merge(backtesting_result, how=\"left\", on=\"Ticker\") \n",
    "oversold_df.drop([\"Total Candles Scaled\", \"Greatness Factor Scaled\"], axis=\"columns\", inplace=True)\n",
    "oversold_df.sort_values(by=\"Greatness Factor\", ascending=False, inplace=True)\n",
    "oversold_df.reset_index(inplace=True, drop=True)"
   ]
  },
  {
   "cell_type": "code",
   "execution_count": 10,
   "metadata": {},
   "outputs": [
    {
     "data": {
      "application/vnd.plotly.v1+json": {
       "config": {
        "plotlyServerURL": "https://plot.ly"
       },
       "data": [
        {
         "hovertemplate": "Greatness Factor=%{x}<br>RSI=%{y}<br>Ticker=%{text}<br>Var=%{marker.color}<extra></extra>",
         "legendgroup": "",
         "marker": {
          "color": [
           -1.0159607573392266,
           -1.5170655862697902,
           -2.0289877186650815,
           -3.0452320085047417,
           -0.42857442583356586,
           -0.8101926587611042,
           -1.625131375617925,
           -0.14244661071007506,
           -5.1418434169881015,
           -2.991450248306846,
           -2.302426213973424,
           -0.6120377630386833,
           -5.169814487673201,
           -0.8169888044554667,
           -0.578032178437116,
           -0.687440974464605,
           -0.7242399030068102,
           -0.9555249183436054,
           0,
           -0.7812503423980018,
           -0.739742148781532,
           -0.8733574625432953,
           0.2941131591796875,
           -1.477831123772482,
           -2.5798587976276237,
           -1.4184432112060115,
           -0.17471463082578573,
           -1.9325941289804607,
           -2.5735321445035333,
           -3.3807855873408523,
           -0.47707476109105806,
           -2.8863646767356177,
           -1.654414552228438,
           -2.8294556737339605,
           -1.5539225698368144,
           -1.8701878266255794,
           -1.8220351619714776,
           -0.0632525529185178,
           -1.5544017029757222,
           0,
           -1.7964055186050372,
           -0.2421296962769953,
           -0.8305679550378994,
           -0.5015064131965565,
           -0.9202431015409271,
           -1.0819118295905343,
           -1.111262289361709,
           -0.6364932843187012,
           -1.1477751235894222,
           0,
           -1.0928899668246397,
           -4.621854127105546,
           -1.444754483160921,
           -2.5773231984957508
          ],
          "coloraxis": "coloraxis",
          "symbol": "circle"
         },
         "mode": "markers+text",
         "name": "",
         "orientation": "v",
         "showlegend": false,
         "text": [
          "REDE3",
          "ENGI4",
          "TRPL3",
          "VIVT3",
          "PTNT4",
          "TAEE11",
          "CPLE6",
          "ENGI3",
          "MNPR3",
          "UCAS3",
          "BPAC3",
          "EQTL3",
          "TRPL4",
          "SHUL4",
          "CCRO3",
          "EGIE3",
          "SLCE3",
          "ITUB3",
          "ENEV3",
          "ABCB4",
          "VULC3",
          "MULT3",
          "CPFE3",
          "ATOM3",
          "TIMS3",
          "ITSA4",
          "ENGI11",
          "PRIO3",
          "MGEL4",
          "HYPE3",
          "WEGE3",
          "RENT3",
          "B3SA3",
          "RADL3",
          "VBBR3",
          "TELB4",
          "UGPA3",
          "VALE3",
          "ARZZ3",
          "ALPA3",
          "LREN3",
          "JBSS3",
          "AURE3",
          "CRFB3",
          "BBSE3",
          "BRAP4",
          "SBSP3",
          "FLRY3",
          "ECOR3",
          "INEP4",
          "POSI3",
          "RCSL3",
          "ELET3",
          "INEP3"
         ],
         "textposition": "top center",
         "type": "scatter",
         "x": [
          462.65999999999997,
          370.41979000000003,
          288.66966,
          214.37598000000003,
          198.94783999999999,
          196.67759999999998,
          179.77251,
          177.9489,
          170.07091,
          145.27707999999998,
          141.24095999999997,
          137.81677,
          133.71787,
          133.54558,
          130.15144999999998,
          124.09337,
          123.71373000000001,
          123.29720000000002,
          121.43704000000001,
          119.46742000000002,
          119.2272,
          117.01971,
          114.01075,
          110.28081,
          106.96293,
          104.56555999999999,
          104.052,
          102.3155,
          102.10905,
          102.09224,
          100.68079,
          99.18968,
          99.15272,
          98.70671999999999,
          97.92339999999999,
          97.02103000000001,
          95.50220999999999,
          93.81096,
          92.89914999999999,
          92.39928,
          91.20097999999999,
          91.00182000000001,
          90.23238,
          89.84094,
          89.20404,
          87.4836,
          86.58239999999999,
          86.53008,
          85.55758,
          84.94116,
          79.68191999999999,
          75.79816,
          75.38714999999999,
          73.68867
         ],
         "xaxis": "x",
         "y": [
          18.83771534764928,
          10.056356263982664,
          4.560324150374598,
          0.9255457440061434,
          12.446941930707396,
          4.548766523135271,
          2.05289148020357,
          20.291964439958818,
          0.16753416195518867,
          9.856333992161424,
          6.241874969482311,
          10.22095153660554,
          5.41546140089838,
          17.54708697034181,
          9.34211103039766,
          6.470231581451486,
          5.4895654235846365,
          0.07257966067344057,
          7.702401560802613,
          15.554815658173638,
          2.5271145976938527,
          13.256424989966902,
          24.26501979288406,
          4.530818087821601,
          2.676497243695067,
          0.6780702775031813,
          18.480765325626663,
          2.5956698994941405,
          5.461677886861935,
          1.7393299740391512,
          0.4420491564952016,
          0.07707128430853061,
          1.2322770776743113,
          0.18795847041478453,
          4.457763923155952,
          15.14432960222075,
          2.52576851853604,
          4.1948226548036445,
          2.822424468747542,
          4.696873046070195,
          23.138225809305624,
          5.780449566071027,
          10.24298294416289,
          5.137068921833034,
          20.446119116874925,
          3.7682581811924507,
          5.331760135451901,
          17.458989561378573,
          6.48695868626325,
          18.789613790293117,
          11.007694945332176,
          10.54292001153199,
          1.0450517614362838,
          8.954890741382513
         ],
         "yaxis": "y"
        }
       ],
       "layout": {
        "coloraxis": {
         "colorbar": {
          "title": {
           "text": "Var"
          }
         },
         "colorscale": [
          [
           0,
           "#0d0887"
          ],
          [
           0.1111111111111111,
           "#46039f"
          ],
          [
           0.2222222222222222,
           "#7201a8"
          ],
          [
           0.3333333333333333,
           "#9c179e"
          ],
          [
           0.4444444444444444,
           "#bd3786"
          ],
          [
           0.5555555555555556,
           "#d8576b"
          ],
          [
           0.6666666666666666,
           "#ed7953"
          ],
          [
           0.7777777777777778,
           "#fb9f3a"
          ],
          [
           0.8888888888888888,
           "#fdca26"
          ],
          [
           1,
           "#f0f921"
          ]
         ]
        },
        "height": 600,
        "legend": {
         "tracegroupgap": 0
        },
        "margin": {
         "t": 60
        },
        "template": {
         "data": {
          "bar": [
           {
            "error_x": {
             "color": "#2a3f5f"
            },
            "error_y": {
             "color": "#2a3f5f"
            },
            "marker": {
             "line": {
              "color": "#E5ECF6",
              "width": 0.5
             },
             "pattern": {
              "fillmode": "overlay",
              "size": 10,
              "solidity": 0.2
             }
            },
            "type": "bar"
           }
          ],
          "barpolar": [
           {
            "marker": {
             "line": {
              "color": "#E5ECF6",
              "width": 0.5
             },
             "pattern": {
              "fillmode": "overlay",
              "size": 10,
              "solidity": 0.2
             }
            },
            "type": "barpolar"
           }
          ],
          "carpet": [
           {
            "aaxis": {
             "endlinecolor": "#2a3f5f",
             "gridcolor": "white",
             "linecolor": "white",
             "minorgridcolor": "white",
             "startlinecolor": "#2a3f5f"
            },
            "baxis": {
             "endlinecolor": "#2a3f5f",
             "gridcolor": "white",
             "linecolor": "white",
             "minorgridcolor": "white",
             "startlinecolor": "#2a3f5f"
            },
            "type": "carpet"
           }
          ],
          "choropleth": [
           {
            "colorbar": {
             "outlinewidth": 0,
             "ticks": ""
            },
            "type": "choropleth"
           }
          ],
          "contour": [
           {
            "colorbar": {
             "outlinewidth": 0,
             "ticks": ""
            },
            "colorscale": [
             [
              0,
              "#0d0887"
             ],
             [
              0.1111111111111111,
              "#46039f"
             ],
             [
              0.2222222222222222,
              "#7201a8"
             ],
             [
              0.3333333333333333,
              "#9c179e"
             ],
             [
              0.4444444444444444,
              "#bd3786"
             ],
             [
              0.5555555555555556,
              "#d8576b"
             ],
             [
              0.6666666666666666,
              "#ed7953"
             ],
             [
              0.7777777777777778,
              "#fb9f3a"
             ],
             [
              0.8888888888888888,
              "#fdca26"
             ],
             [
              1,
              "#f0f921"
             ]
            ],
            "type": "contour"
           }
          ],
          "contourcarpet": [
           {
            "colorbar": {
             "outlinewidth": 0,
             "ticks": ""
            },
            "type": "contourcarpet"
           }
          ],
          "heatmap": [
           {
            "colorbar": {
             "outlinewidth": 0,
             "ticks": ""
            },
            "colorscale": [
             [
              0,
              "#0d0887"
             ],
             [
              0.1111111111111111,
              "#46039f"
             ],
             [
              0.2222222222222222,
              "#7201a8"
             ],
             [
              0.3333333333333333,
              "#9c179e"
             ],
             [
              0.4444444444444444,
              "#bd3786"
             ],
             [
              0.5555555555555556,
              "#d8576b"
             ],
             [
              0.6666666666666666,
              "#ed7953"
             ],
             [
              0.7777777777777778,
              "#fb9f3a"
             ],
             [
              0.8888888888888888,
              "#fdca26"
             ],
             [
              1,
              "#f0f921"
             ]
            ],
            "type": "heatmap"
           }
          ],
          "heatmapgl": [
           {
            "colorbar": {
             "outlinewidth": 0,
             "ticks": ""
            },
            "colorscale": [
             [
              0,
              "#0d0887"
             ],
             [
              0.1111111111111111,
              "#46039f"
             ],
             [
              0.2222222222222222,
              "#7201a8"
             ],
             [
              0.3333333333333333,
              "#9c179e"
             ],
             [
              0.4444444444444444,
              "#bd3786"
             ],
             [
              0.5555555555555556,
              "#d8576b"
             ],
             [
              0.6666666666666666,
              "#ed7953"
             ],
             [
              0.7777777777777778,
              "#fb9f3a"
             ],
             [
              0.8888888888888888,
              "#fdca26"
             ],
             [
              1,
              "#f0f921"
             ]
            ],
            "type": "heatmapgl"
           }
          ],
          "histogram": [
           {
            "marker": {
             "pattern": {
              "fillmode": "overlay",
              "size": 10,
              "solidity": 0.2
             }
            },
            "type": "histogram"
           }
          ],
          "histogram2d": [
           {
            "colorbar": {
             "outlinewidth": 0,
             "ticks": ""
            },
            "colorscale": [
             [
              0,
              "#0d0887"
             ],
             [
              0.1111111111111111,
              "#46039f"
             ],
             [
              0.2222222222222222,
              "#7201a8"
             ],
             [
              0.3333333333333333,
              "#9c179e"
             ],
             [
              0.4444444444444444,
              "#bd3786"
             ],
             [
              0.5555555555555556,
              "#d8576b"
             ],
             [
              0.6666666666666666,
              "#ed7953"
             ],
             [
              0.7777777777777778,
              "#fb9f3a"
             ],
             [
              0.8888888888888888,
              "#fdca26"
             ],
             [
              1,
              "#f0f921"
             ]
            ],
            "type": "histogram2d"
           }
          ],
          "histogram2dcontour": [
           {
            "colorbar": {
             "outlinewidth": 0,
             "ticks": ""
            },
            "colorscale": [
             [
              0,
              "#0d0887"
             ],
             [
              0.1111111111111111,
              "#46039f"
             ],
             [
              0.2222222222222222,
              "#7201a8"
             ],
             [
              0.3333333333333333,
              "#9c179e"
             ],
             [
              0.4444444444444444,
              "#bd3786"
             ],
             [
              0.5555555555555556,
              "#d8576b"
             ],
             [
              0.6666666666666666,
              "#ed7953"
             ],
             [
              0.7777777777777778,
              "#fb9f3a"
             ],
             [
              0.8888888888888888,
              "#fdca26"
             ],
             [
              1,
              "#f0f921"
             ]
            ],
            "type": "histogram2dcontour"
           }
          ],
          "mesh3d": [
           {
            "colorbar": {
             "outlinewidth": 0,
             "ticks": ""
            },
            "type": "mesh3d"
           }
          ],
          "parcoords": [
           {
            "line": {
             "colorbar": {
              "outlinewidth": 0,
              "ticks": ""
             }
            },
            "type": "parcoords"
           }
          ],
          "pie": [
           {
            "automargin": true,
            "type": "pie"
           }
          ],
          "scatter": [
           {
            "fillpattern": {
             "fillmode": "overlay",
             "size": 10,
             "solidity": 0.2
            },
            "type": "scatter"
           }
          ],
          "scatter3d": [
           {
            "line": {
             "colorbar": {
              "outlinewidth": 0,
              "ticks": ""
             }
            },
            "marker": {
             "colorbar": {
              "outlinewidth": 0,
              "ticks": ""
             }
            },
            "type": "scatter3d"
           }
          ],
          "scattercarpet": [
           {
            "marker": {
             "colorbar": {
              "outlinewidth": 0,
              "ticks": ""
             }
            },
            "type": "scattercarpet"
           }
          ],
          "scattergeo": [
           {
            "marker": {
             "colorbar": {
              "outlinewidth": 0,
              "ticks": ""
             }
            },
            "type": "scattergeo"
           }
          ],
          "scattergl": [
           {
            "marker": {
             "colorbar": {
              "outlinewidth": 0,
              "ticks": ""
             }
            },
            "type": "scattergl"
           }
          ],
          "scattermapbox": [
           {
            "marker": {
             "colorbar": {
              "outlinewidth": 0,
              "ticks": ""
             }
            },
            "type": "scattermapbox"
           }
          ],
          "scatterpolar": [
           {
            "marker": {
             "colorbar": {
              "outlinewidth": 0,
              "ticks": ""
             }
            },
            "type": "scatterpolar"
           }
          ],
          "scatterpolargl": [
           {
            "marker": {
             "colorbar": {
              "outlinewidth": 0,
              "ticks": ""
             }
            },
            "type": "scatterpolargl"
           }
          ],
          "scatterternary": [
           {
            "marker": {
             "colorbar": {
              "outlinewidth": 0,
              "ticks": ""
             }
            },
            "type": "scatterternary"
           }
          ],
          "surface": [
           {
            "colorbar": {
             "outlinewidth": 0,
             "ticks": ""
            },
            "colorscale": [
             [
              0,
              "#0d0887"
             ],
             [
              0.1111111111111111,
              "#46039f"
             ],
             [
              0.2222222222222222,
              "#7201a8"
             ],
             [
              0.3333333333333333,
              "#9c179e"
             ],
             [
              0.4444444444444444,
              "#bd3786"
             ],
             [
              0.5555555555555556,
              "#d8576b"
             ],
             [
              0.6666666666666666,
              "#ed7953"
             ],
             [
              0.7777777777777778,
              "#fb9f3a"
             ],
             [
              0.8888888888888888,
              "#fdca26"
             ],
             [
              1,
              "#f0f921"
             ]
            ],
            "type": "surface"
           }
          ],
          "table": [
           {
            "cells": {
             "fill": {
              "color": "#EBF0F8"
             },
             "line": {
              "color": "white"
             }
            },
            "header": {
             "fill": {
              "color": "#C8D4E3"
             },
             "line": {
              "color": "white"
             }
            },
            "type": "table"
           }
          ]
         },
         "layout": {
          "annotationdefaults": {
           "arrowcolor": "#2a3f5f",
           "arrowhead": 0,
           "arrowwidth": 1
          },
          "autotypenumbers": "strict",
          "coloraxis": {
           "colorbar": {
            "outlinewidth": 0,
            "ticks": ""
           }
          },
          "colorscale": {
           "diverging": [
            [
             0,
             "#8e0152"
            ],
            [
             0.1,
             "#c51b7d"
            ],
            [
             0.2,
             "#de77ae"
            ],
            [
             0.3,
             "#f1b6da"
            ],
            [
             0.4,
             "#fde0ef"
            ],
            [
             0.5,
             "#f7f7f7"
            ],
            [
             0.6,
             "#e6f5d0"
            ],
            [
             0.7,
             "#b8e186"
            ],
            [
             0.8,
             "#7fbc41"
            ],
            [
             0.9,
             "#4d9221"
            ],
            [
             1,
             "#276419"
            ]
           ],
           "sequential": [
            [
             0,
             "#0d0887"
            ],
            [
             0.1111111111111111,
             "#46039f"
            ],
            [
             0.2222222222222222,
             "#7201a8"
            ],
            [
             0.3333333333333333,
             "#9c179e"
            ],
            [
             0.4444444444444444,
             "#bd3786"
            ],
            [
             0.5555555555555556,
             "#d8576b"
            ],
            [
             0.6666666666666666,
             "#ed7953"
            ],
            [
             0.7777777777777778,
             "#fb9f3a"
            ],
            [
             0.8888888888888888,
             "#fdca26"
            ],
            [
             1,
             "#f0f921"
            ]
           ],
           "sequentialminus": [
            [
             0,
             "#0d0887"
            ],
            [
             0.1111111111111111,
             "#46039f"
            ],
            [
             0.2222222222222222,
             "#7201a8"
            ],
            [
             0.3333333333333333,
             "#9c179e"
            ],
            [
             0.4444444444444444,
             "#bd3786"
            ],
            [
             0.5555555555555556,
             "#d8576b"
            ],
            [
             0.6666666666666666,
             "#ed7953"
            ],
            [
             0.7777777777777778,
             "#fb9f3a"
            ],
            [
             0.8888888888888888,
             "#fdca26"
            ],
            [
             1,
             "#f0f921"
            ]
           ]
          },
          "colorway": [
           "#636efa",
           "#EF553B",
           "#00cc96",
           "#ab63fa",
           "#FFA15A",
           "#19d3f3",
           "#FF6692",
           "#B6E880",
           "#FF97FF",
           "#FECB52"
          ],
          "font": {
           "color": "#2a3f5f"
          },
          "geo": {
           "bgcolor": "white",
           "lakecolor": "white",
           "landcolor": "#E5ECF6",
           "showlakes": true,
           "showland": true,
           "subunitcolor": "white"
          },
          "hoverlabel": {
           "align": "left"
          },
          "hovermode": "closest",
          "mapbox": {
           "style": "light"
          },
          "paper_bgcolor": "white",
          "plot_bgcolor": "#E5ECF6",
          "polar": {
           "angularaxis": {
            "gridcolor": "white",
            "linecolor": "white",
            "ticks": ""
           },
           "bgcolor": "#E5ECF6",
           "radialaxis": {
            "gridcolor": "white",
            "linecolor": "white",
            "ticks": ""
           }
          },
          "scene": {
           "xaxis": {
            "backgroundcolor": "#E5ECF6",
            "gridcolor": "white",
            "gridwidth": 2,
            "linecolor": "white",
            "showbackground": true,
            "ticks": "",
            "zerolinecolor": "white"
           },
           "yaxis": {
            "backgroundcolor": "#E5ECF6",
            "gridcolor": "white",
            "gridwidth": 2,
            "linecolor": "white",
            "showbackground": true,
            "ticks": "",
            "zerolinecolor": "white"
           },
           "zaxis": {
            "backgroundcolor": "#E5ECF6",
            "gridcolor": "white",
            "gridwidth": 2,
            "linecolor": "white",
            "showbackground": true,
            "ticks": "",
            "zerolinecolor": "white"
           }
          },
          "shapedefaults": {
           "line": {
            "color": "#2a3f5f"
           }
          },
          "ternary": {
           "aaxis": {
            "gridcolor": "white",
            "linecolor": "white",
            "ticks": ""
           },
           "baxis": {
            "gridcolor": "white",
            "linecolor": "white",
            "ticks": ""
           },
           "bgcolor": "#E5ECF6",
           "caxis": {
            "gridcolor": "white",
            "linecolor": "white",
            "ticks": ""
           }
          },
          "title": {
           "x": 0.05
          },
          "xaxis": {
           "automargin": true,
           "gridcolor": "white",
           "linecolor": "white",
           "ticks": "",
           "title": {
            "standoff": 15
           },
           "zerolinecolor": "white",
           "zerolinewidth": 2
          },
          "yaxis": {
           "automargin": true,
           "gridcolor": "white",
           "linecolor": "white",
           "ticks": "",
           "title": {
            "standoff": 15
           },
           "zerolinecolor": "white",
           "zerolinewidth": 2
          }
         }
        },
        "title": {
         "text": "RSI of Different Tickers"
        },
        "xaxis": {
         "anchor": "y",
         "domain": [
          0,
          1
         ],
         "range": [
          33.68867,
          502.65999999999997
         ],
         "title": {
          "text": "Greatness Factor"
         },
         "zeroline": true,
         "zerolinecolor": "LightGrey",
         "zerolinewidth": 2
        },
        "yaxis": {
         "anchor": "x",
         "domain": [
          0,
          1
         ],
         "range": [
          -4.927420339326559,
          34.26501979288406
         ],
         "title": {
          "text": "RSI"
         },
         "zeroline": true,
         "zerolinecolor": "LightGrey",
         "zerolinewidth": 2
        }
       }
      }
     },
     "metadata": {},
     "output_type": "display_data"
    }
   ],
   "source": [
    "# Create the scatter plot\n",
    "fig = px.scatter(oversold_df, x='Greatness Factor', y='RSI', text='Ticker', color=\"Var\", size_max=30)\n",
    "\n",
    "# Update layout to improve appearance\n",
    "fig.update_traces(textposition='top center')\n",
    "fig.update_layout(title='RSI of Different Tickers',\n",
    "                  yaxis= dict(title='RSI', range=[min(oversold_df['RSI']) - 5, max(oversold_df['RSI']) + 10], zeroline=True, zerolinewidth=2, zerolinecolor='LightGrey'),\n",
    "                  xaxis=dict(title='Greatness Factor', range=[min(oversold_df[\"Greatness Factor\"] - 40), max(oversold_df['Greatness Factor']) + 40], zeroline=True, zerolinewidth=2, zerolinecolor='LightGrey'),\n",
    "                  height=600)\n",
    "\n",
    "# Show plot\n",
    "fig.show()"
   ]
  },
  {
   "cell_type": "code",
   "execution_count": 11,
   "metadata": {},
   "outputs": [
    {
     "data": {
      "text/html": [
       "<div>\n",
       "<style scoped>\n",
       "    .dataframe tbody tr th:only-of-type {\n",
       "        vertical-align: middle;\n",
       "    }\n",
       "\n",
       "    .dataframe tbody tr th {\n",
       "        vertical-align: top;\n",
       "    }\n",
       "\n",
       "    .dataframe thead th {\n",
       "        text-align: right;\n",
       "    }\n",
       "</style>\n",
       "<table border=\"1\" class=\"dataframe\">\n",
       "  <thead>\n",
       "    <tr style=\"text-align: right;\">\n",
       "      <th></th>\n",
       "      <th>Ticker</th>\n",
       "      <th>Close</th>\n",
       "      <th>Var</th>\n",
       "      <th>RSI</th>\n",
       "      <th>index</th>\n",
       "      <th>Total Trades</th>\n",
       "      <th>Profitable %</th>\n",
       "      <th>Gain Factor</th>\n",
       "      <th>Max Drawdown</th>\n",
       "      <th>Mean Transaction</th>\n",
       "      <th>Total Candles</th>\n",
       "      <th>Greatness Factor</th>\n",
       "    </tr>\n",
       "  </thead>\n",
       "  <tbody>\n",
       "    <tr>\n",
       "      <th>0</th>\n",
       "      <td>REDE3</td>\n",
       "      <td>6.820000</td>\n",
       "      <td>-1.015961</td>\n",
       "      <td>18.837715</td>\n",
       "      <td>49</td>\n",
       "      <td>166</td>\n",
       "      <td>77.11</td>\n",
       "      <td>6.000</td>\n",
       "      <td>22.34</td>\n",
       "      <td>2.20</td>\n",
       "      <td>4</td>\n",
       "      <td>462.66000</td>\n",
       "    </tr>\n",
       "    <tr>\n",
       "      <th>1</th>\n",
       "      <td>ENGI4</td>\n",
       "      <td>7.790000</td>\n",
       "      <td>-1.517066</td>\n",
       "      <td>10.056356</td>\n",
       "      <td>42</td>\n",
       "      <td>223</td>\n",
       "      <td>79.37</td>\n",
       "      <td>4.667</td>\n",
       "      <td>15.07</td>\n",
       "      <td>2.54</td>\n",
       "      <td>4</td>\n",
       "      <td>370.41979</td>\n",
       "    </tr>\n",
       "    <tr>\n",
       "      <th>2</th>\n",
       "      <td>TRPL3</td>\n",
       "      <td>33.799999</td>\n",
       "      <td>-2.028988</td>\n",
       "      <td>4.560324</td>\n",
       "      <td>52</td>\n",
       "      <td>193</td>\n",
       "      <td>83.94</td>\n",
       "      <td>3.439</td>\n",
       "      <td>18.58</td>\n",
       "      <td>1.69</td>\n",
       "      <td>4</td>\n",
       "      <td>288.66966</td>\n",
       "    </tr>\n",
       "    <tr>\n",
       "      <th>3</th>\n",
       "      <td>VIVT3</td>\n",
       "      <td>43.299999</td>\n",
       "      <td>-3.045232</td>\n",
       "      <td>0.925546</td>\n",
       "      <td>2</td>\n",
       "      <td>248</td>\n",
       "      <td>77.42</td>\n",
       "      <td>2.769</td>\n",
       "      <td>13.94</td>\n",
       "      <td>0.99</td>\n",
       "      <td>4</td>\n",
       "      <td>214.37598</td>\n",
       "    </tr>\n",
       "    <tr>\n",
       "      <th>4</th>\n",
       "      <td>PTNT4</td>\n",
       "      <td>6.970000</td>\n",
       "      <td>-0.428574</td>\n",
       "      <td>12.446942</td>\n",
       "      <td>48</td>\n",
       "      <td>219</td>\n",
       "      <td>78.08</td>\n",
       "      <td>2.548</td>\n",
       "      <td>42.63</td>\n",
       "      <td>1.87</td>\n",
       "      <td>4</td>\n",
       "      <td>198.94784</td>\n",
       "    </tr>\n",
       "    <tr>\n",
       "      <th>5</th>\n",
       "      <td>TAEE11</td>\n",
       "      <td>34.279999</td>\n",
       "      <td>-0.810193</td>\n",
       "      <td>4.548767</td>\n",
       "      <td>1</td>\n",
       "      <td>220</td>\n",
       "      <td>76.35</td>\n",
       "      <td>2.576</td>\n",
       "      <td>14.87</td>\n",
       "      <td>0.82</td>\n",
       "      <td>5</td>\n",
       "      <td>196.67760</td>\n",
       "    </tr>\n",
       "    <tr>\n",
       "      <th>6</th>\n",
       "      <td>CPLE6</td>\n",
       "      <td>9.080000</td>\n",
       "      <td>-1.625131</td>\n",
       "      <td>2.052891</td>\n",
       "      <td>0</td>\n",
       "      <td>237</td>\n",
       "      <td>71.31</td>\n",
       "      <td>2.521</td>\n",
       "      <td>38.86</td>\n",
       "      <td>1.09</td>\n",
       "      <td>5</td>\n",
       "      <td>179.77251</td>\n",
       "    </tr>\n",
       "    <tr>\n",
       "      <th>7</th>\n",
       "      <td>ENGI3</td>\n",
       "      <td>14.020000</td>\n",
       "      <td>-0.142447</td>\n",
       "      <td>20.291964</td>\n",
       "      <td>41</td>\n",
       "      <td>194</td>\n",
       "      <td>73.23</td>\n",
       "      <td>2.430</td>\n",
       "      <td>24.43</td>\n",
       "      <td>1.66</td>\n",
       "      <td>4</td>\n",
       "      <td>177.94890</td>\n",
       "    </tr>\n",
       "    <tr>\n",
       "      <th>8</th>\n",
       "      <td>MNPR3</td>\n",
       "      <td>10.700000</td>\n",
       "      <td>-5.141843</td>\n",
       "      <td>0.167534</td>\n",
       "      <td>37</td>\n",
       "      <td>239</td>\n",
       "      <td>76.99</td>\n",
       "      <td>2.209</td>\n",
       "      <td>47.55</td>\n",
       "      <td>4.38</td>\n",
       "      <td>4</td>\n",
       "      <td>170.07091</td>\n",
       "    </tr>\n",
       "    <tr>\n",
       "      <th>9</th>\n",
       "      <td>UCAS3</td>\n",
       "      <td>2.270000</td>\n",
       "      <td>-2.991450</td>\n",
       "      <td>9.856334</td>\n",
       "      <td>50</td>\n",
       "      <td>242</td>\n",
       "      <td>73.97</td>\n",
       "      <td>1.964</td>\n",
       "      <td>30.92</td>\n",
       "      <td>1.52</td>\n",
       "      <td>5</td>\n",
       "      <td>145.27708</td>\n",
       "    </tr>\n",
       "    <tr>\n",
       "      <th>10</th>\n",
       "      <td>BPAC3</td>\n",
       "      <td>15.700000</td>\n",
       "      <td>-2.302426</td>\n",
       "      <td>6.241875</td>\n",
       "      <td>8</td>\n",
       "      <td>144</td>\n",
       "      <td>69.44</td>\n",
       "      <td>2.034</td>\n",
       "      <td>26.99</td>\n",
       "      <td>1.22</td>\n",
       "      <td>4</td>\n",
       "      <td>141.24096</td>\n",
       "    </tr>\n",
       "    <tr>\n",
       "      <th>11</th>\n",
       "      <td>EQTL3</td>\n",
       "      <td>29.230000</td>\n",
       "      <td>-0.612038</td>\n",
       "      <td>10.220952</td>\n",
       "      <td>11</td>\n",
       "      <td>235</td>\n",
       "      <td>73.19</td>\n",
       "      <td>1.883</td>\n",
       "      <td>36.45</td>\n",
       "      <td>0.80</td>\n",
       "      <td>5</td>\n",
       "      <td>137.81677</td>\n",
       "    </tr>\n",
       "    <tr>\n",
       "      <th>12</th>\n",
       "      <td>TRPL4</td>\n",
       "      <td>25.129999</td>\n",
       "      <td>-5.169814</td>\n",
       "      <td>5.415461</td>\n",
       "      <td>53</td>\n",
       "      <td>228</td>\n",
       "      <td>71.93</td>\n",
       "      <td>1.859</td>\n",
       "      <td>21.33</td>\n",
       "      <td>0.60</td>\n",
       "      <td>5</td>\n",
       "      <td>133.71787</td>\n",
       "    </tr>\n",
       "    <tr>\n",
       "      <th>13</th>\n",
       "      <td>SHUL4</td>\n",
       "      <td>6.070000</td>\n",
       "      <td>-0.816989</td>\n",
       "      <td>17.547087</td>\n",
       "      <td>29</td>\n",
       "      <td>233</td>\n",
       "      <td>75.11</td>\n",
       "      <td>1.778</td>\n",
       "      <td>44.87</td>\n",
       "      <td>1.34</td>\n",
       "      <td>5</td>\n",
       "      <td>133.54558</td>\n",
       "    </tr>\n",
       "    <tr>\n",
       "      <th>14</th>\n",
       "      <td>CCRO3</td>\n",
       "      <td>12.040000</td>\n",
       "      <td>-0.578032</td>\n",
       "      <td>9.342111</td>\n",
       "      <td>6</td>\n",
       "      <td>247</td>\n",
       "      <td>70.85</td>\n",
       "      <td>1.837</td>\n",
       "      <td>27.18</td>\n",
       "      <td>0.86</td>\n",
       "      <td>5</td>\n",
       "      <td>130.15145</td>\n",
       "    </tr>\n",
       "    <tr>\n",
       "      <th>15</th>\n",
       "      <td>EGIE3</td>\n",
       "      <td>43.340000</td>\n",
       "      <td>-0.687441</td>\n",
       "      <td>6.470232</td>\n",
       "      <td>7</td>\n",
       "      <td>230</td>\n",
       "      <td>70.87</td>\n",
       "      <td>1.751</td>\n",
       "      <td>14.22</td>\n",
       "      <td>0.62</td>\n",
       "      <td>5</td>\n",
       "      <td>124.09337</td>\n",
       "    </tr>\n",
       "    <tr>\n",
       "      <th>16</th>\n",
       "      <td>SLCE3</td>\n",
       "      <td>17.820000</td>\n",
       "      <td>-0.724240</td>\n",
       "      <td>5.489565</td>\n",
       "      <td>4</td>\n",
       "      <td>220</td>\n",
       "      <td>72.73</td>\n",
       "      <td>1.701</td>\n",
       "      <td>30.12</td>\n",
       "      <td>0.91</td>\n",
       "      <td>5</td>\n",
       "      <td>123.71373</td>\n",
       "    </tr>\n",
       "    <tr>\n",
       "      <th>17</th>\n",
       "      <td>ITUB3</td>\n",
       "      <td>26.950001</td>\n",
       "      <td>-0.955525</td>\n",
       "      <td>0.072580</td>\n",
       "      <td>18</td>\n",
       "      <td>250</td>\n",
       "      <td>72.40</td>\n",
       "      <td>1.703</td>\n",
       "      <td>25.29</td>\n",
       "      <td>0.56</td>\n",
       "      <td>5</td>\n",
       "      <td>123.29720</td>\n",
       "    </tr>\n",
       "    <tr>\n",
       "      <th>18</th>\n",
       "      <td>ENEV3</td>\n",
       "      <td>12.430000</td>\n",
       "      <td>0.000000</td>\n",
       "      <td>7.702402</td>\n",
       "      <td>36</td>\n",
       "      <td>227</td>\n",
       "      <td>70.48</td>\n",
       "      <td>1.723</td>\n",
       "      <td>42.14</td>\n",
       "      <td>1.31</td>\n",
       "      <td>4</td>\n",
       "      <td>121.43704</td>\n",
       "    </tr>\n",
       "    <tr>\n",
       "      <th>19</th>\n",
       "      <td>ABCB4</td>\n",
       "      <td>21.590000</td>\n",
       "      <td>-0.781250</td>\n",
       "      <td>15.554816</td>\n",
       "      <td>58</td>\n",
       "      <td>239</td>\n",
       "      <td>68.62</td>\n",
       "      <td>1.741</td>\n",
       "      <td>37.98</td>\n",
       "      <td>0.62</td>\n",
       "      <td>5</td>\n",
       "      <td>119.46742</td>\n",
       "    </tr>\n",
       "    <tr>\n",
       "      <th>20</th>\n",
       "      <td>VULC3</td>\n",
       "      <td>14.760000</td>\n",
       "      <td>-0.739742</td>\n",
       "      <td>2.527115</td>\n",
       "      <td>56</td>\n",
       "      <td>226</td>\n",
       "      <td>70.80</td>\n",
       "      <td>1.684</td>\n",
       "      <td>43.90</td>\n",
       "      <td>1.60</td>\n",
       "      <td>5</td>\n",
       "      <td>119.22720</td>\n",
       "    </tr>\n",
       "    <tr>\n",
       "      <th>21</th>\n",
       "      <td>MULT3</td>\n",
       "      <td>22.700001</td>\n",
       "      <td>-0.873357</td>\n",
       "      <td>13.256425</td>\n",
       "      <td>12</td>\n",
       "      <td>251</td>\n",
       "      <td>71.31</td>\n",
       "      <td>1.641</td>\n",
       "      <td>43.28</td>\n",
       "      <td>0.89</td>\n",
       "      <td>4</td>\n",
       "      <td>117.01971</td>\n",
       "    </tr>\n",
       "    <tr>\n",
       "      <th>22</th>\n",
       "      <td>CPFE3</td>\n",
       "      <td>34.099998</td>\n",
       "      <td>0.294113</td>\n",
       "      <td>24.265020</td>\n",
       "      <td>32</td>\n",
       "      <td>223</td>\n",
       "      <td>71.75</td>\n",
       "      <td>1.589</td>\n",
       "      <td>43.96</td>\n",
       "      <td>0.54</td>\n",
       "      <td>4</td>\n",
       "      <td>114.01075</td>\n",
       "    </tr>\n",
       "    <tr>\n",
       "      <th>23</th>\n",
       "      <td>ATOM3</td>\n",
       "      <td>2.000000</td>\n",
       "      <td>-1.477831</td>\n",
       "      <td>4.530818</td>\n",
       "      <td>40</td>\n",
       "      <td>215</td>\n",
       "      <td>68.37</td>\n",
       "      <td>1.613</td>\n",
       "      <td>60.84</td>\n",
       "      <td>0.93</td>\n",
       "      <td>5</td>\n",
       "      <td>110.28081</td>\n",
       "    </tr>\n",
       "    <tr>\n",
       "      <th>24</th>\n",
       "      <td>TIMS3</td>\n",
       "      <td>15.860000</td>\n",
       "      <td>-2.579859</td>\n",
       "      <td>2.676497</td>\n",
       "      <td>19</td>\n",
       "      <td>235</td>\n",
       "      <td>67.23</td>\n",
       "      <td>1.591</td>\n",
       "      <td>25.99</td>\n",
       "      <td>0.55</td>\n",
       "      <td>5</td>\n",
       "      <td>106.96293</td>\n",
       "    </tr>\n",
       "    <tr>\n",
       "      <th>25</th>\n",
       "      <td>ITSA4</td>\n",
       "      <td>9.730000</td>\n",
       "      <td>-1.418443</td>\n",
       "      <td>0.678070</td>\n",
       "      <td>13</td>\n",
       "      <td>234</td>\n",
       "      <td>70.94</td>\n",
       "      <td>1.474</td>\n",
       "      <td>31.41</td>\n",
       "      <td>0.54</td>\n",
       "      <td>5</td>\n",
       "      <td>104.56556</td>\n",
       "    </tr>\n",
       "    <tr>\n",
       "      <th>26</th>\n",
       "      <td>ENGI11</td>\n",
       "      <td>45.709999</td>\n",
       "      <td>-0.174715</td>\n",
       "      <td>18.480765</td>\n",
       "      <td>15</td>\n",
       "      <td>216</td>\n",
       "      <td>71.76</td>\n",
       "      <td>1.450</td>\n",
       "      <td>32.07</td>\n",
       "      <td>0.60</td>\n",
       "      <td>4</td>\n",
       "      <td>104.05200</td>\n",
       "    </tr>\n",
       "    <tr>\n",
       "      <th>27</th>\n",
       "      <td>PRIO3</td>\n",
       "      <td>41.610001</td>\n",
       "      <td>-1.932594</td>\n",
       "      <td>2.595670</td>\n",
       "      <td>35</td>\n",
       "      <td>223</td>\n",
       "      <td>71.75</td>\n",
       "      <td>1.426</td>\n",
       "      <td>72.00</td>\n",
       "      <td>1.15</td>\n",
       "      <td>5</td>\n",
       "      <td>102.31550</td>\n",
       "    </tr>\n",
       "    <tr>\n",
       "      <th>28</th>\n",
       "      <td>MGEL4</td>\n",
       "      <td>13.250000</td>\n",
       "      <td>-2.573532</td>\n",
       "      <td>5.461678</td>\n",
       "      <td>39</td>\n",
       "      <td>230</td>\n",
       "      <td>66.09</td>\n",
       "      <td>1.545</td>\n",
       "      <td>51.44</td>\n",
       "      <td>1.85</td>\n",
       "      <td>4</td>\n",
       "      <td>102.10905</td>\n",
       "    </tr>\n",
       "    <tr>\n",
       "      <th>29</th>\n",
       "      <td>HYPE3</td>\n",
       "      <td>27.150000</td>\n",
       "      <td>-3.380786</td>\n",
       "      <td>1.739330</td>\n",
       "      <td>67</td>\n",
       "      <td>224</td>\n",
       "      <td>69.64</td>\n",
       "      <td>1.466</td>\n",
       "      <td>28.37</td>\n",
       "      <td>0.48</td>\n",
       "      <td>5</td>\n",
       "      <td>102.09224</td>\n",
       "    </tr>\n",
       "    <tr>\n",
       "      <th>30</th>\n",
       "      <td>WEGE3</td>\n",
       "      <td>37.549999</td>\n",
       "      <td>-0.477075</td>\n",
       "      <td>0.442049</td>\n",
       "      <td>30</td>\n",
       "      <td>226</td>\n",
       "      <td>73.01</td>\n",
       "      <td>1.379</td>\n",
       "      <td>44.28</td>\n",
       "      <td>0.59</td>\n",
       "      <td>5</td>\n",
       "      <td>100.68079</td>\n",
       "    </tr>\n",
       "    <tr>\n",
       "      <th>31</th>\n",
       "      <td>RENT3</td>\n",
       "      <td>42.730000</td>\n",
       "      <td>-2.886365</td>\n",
       "      <td>0.077071</td>\n",
       "      <td>21</td>\n",
       "      <td>236</td>\n",
       "      <td>72.88</td>\n",
       "      <td>1.361</td>\n",
       "      <td>55.13</td>\n",
       "      <td>0.71</td>\n",
       "      <td>5</td>\n",
       "      <td>99.18968</td>\n",
       "    </tr>\n",
       "    <tr>\n",
       "      <th>32</th>\n",
       "      <td>B3SA3</td>\n",
       "      <td>10.700000</td>\n",
       "      <td>-1.654415</td>\n",
       "      <td>1.232277</td>\n",
       "      <td>14</td>\n",
       "      <td>233</td>\n",
       "      <td>68.24</td>\n",
       "      <td>1.453</td>\n",
       "      <td>36.20</td>\n",
       "      <td>0.79</td>\n",
       "      <td>5</td>\n",
       "      <td>99.15272</td>\n",
       "    </tr>\n",
       "    <tr>\n",
       "      <th>33</th>\n",
       "      <td>RADL3</td>\n",
       "      <td>25.070000</td>\n",
       "      <td>-2.829456</td>\n",
       "      <td>0.187958</td>\n",
       "      <td>64</td>\n",
       "      <td>220</td>\n",
       "      <td>70.91</td>\n",
       "      <td>1.392</td>\n",
       "      <td>36.03</td>\n",
       "      <td>0.56</td>\n",
       "      <td>5</td>\n",
       "      <td>98.70672</td>\n",
       "    </tr>\n",
       "    <tr>\n",
       "      <th>34</th>\n",
       "      <td>VBBR3</td>\n",
       "      <td>21.540001</td>\n",
       "      <td>-1.553923</td>\n",
       "      <td>4.457764</td>\n",
       "      <td>60</td>\n",
       "      <td>163</td>\n",
       "      <td>70.55</td>\n",
       "      <td>1.388</td>\n",
       "      <td>38.79</td>\n",
       "      <td>0.57</td>\n",
       "      <td>5</td>\n",
       "      <td>97.92340</td>\n",
       "    </tr>\n",
       "    <tr>\n",
       "      <th>35</th>\n",
       "      <td>TELB4</td>\n",
       "      <td>8.920000</td>\n",
       "      <td>-1.870188</td>\n",
       "      <td>15.144330</td>\n",
       "      <td>43</td>\n",
       "      <td>254</td>\n",
       "      <td>70.87</td>\n",
       "      <td>1.369</td>\n",
       "      <td>47.47</td>\n",
       "      <td>0.80</td>\n",
       "      <td>5</td>\n",
       "      <td>97.02103</td>\n",
       "    </tr>\n",
       "    <tr>\n",
       "      <th>36</th>\n",
       "      <td>UGPA3</td>\n",
       "      <td>23.170000</td>\n",
       "      <td>-1.822035</td>\n",
       "      <td>2.525769</td>\n",
       "      <td>24</td>\n",
       "      <td>238</td>\n",
       "      <td>68.07</td>\n",
       "      <td>1.403</td>\n",
       "      <td>43.53</td>\n",
       "      <td>0.53</td>\n",
       "      <td>5</td>\n",
       "      <td>95.50221</td>\n",
       "    </tr>\n",
       "    <tr>\n",
       "      <th>37</th>\n",
       "      <td>VALE3</td>\n",
       "      <td>63.200001</td>\n",
       "      <td>-0.063253</td>\n",
       "      <td>4.194823</td>\n",
       "      <td>31</td>\n",
       "      <td>224</td>\n",
       "      <td>66.96</td>\n",
       "      <td>1.401</td>\n",
       "      <td>46.04</td>\n",
       "      <td>0.68</td>\n",
       "      <td>5</td>\n",
       "      <td>93.81096</td>\n",
       "    </tr>\n",
       "    <tr>\n",
       "      <th>38</th>\n",
       "      <td>ARZZ3</td>\n",
       "      <td>49.400002</td>\n",
       "      <td>-1.554402</td>\n",
       "      <td>2.822424</td>\n",
       "      <td>23</td>\n",
       "      <td>236</td>\n",
       "      <td>69.07</td>\n",
       "      <td>1.345</td>\n",
       "      <td>33.14</td>\n",
       "      <td>0.69</td>\n",
       "      <td>5</td>\n",
       "      <td>92.89915</td>\n",
       "    </tr>\n",
       "    <tr>\n",
       "      <th>39</th>\n",
       "      <td>ALPA3</td>\n",
       "      <td>9.500000</td>\n",
       "      <td>0.000000</td>\n",
       "      <td>4.696873</td>\n",
       "      <td>68</td>\n",
       "      <td>227</td>\n",
       "      <td>70.48</td>\n",
       "      <td>1.311</td>\n",
       "      <td>51.98</td>\n",
       "      <td>0.76</td>\n",
       "      <td>4</td>\n",
       "      <td>92.39928</td>\n",
       "    </tr>\n",
       "    <tr>\n",
       "      <th>40</th>\n",
       "      <td>LREN3</td>\n",
       "      <td>13.120000</td>\n",
       "      <td>-1.796406</td>\n",
       "      <td>23.138226</td>\n",
       "      <td>5</td>\n",
       "      <td>239</td>\n",
       "      <td>69.46</td>\n",
       "      <td>1.313</td>\n",
       "      <td>36.13</td>\n",
       "      <td>0.67</td>\n",
       "      <td>5</td>\n",
       "      <td>91.20098</td>\n",
       "    </tr>\n",
       "    <tr>\n",
       "      <th>41</th>\n",
       "      <td>JBSS3</td>\n",
       "      <td>28.840000</td>\n",
       "      <td>-0.242130</td>\n",
       "      <td>5.780450</td>\n",
       "      <td>9</td>\n",
       "      <td>224</td>\n",
       "      <td>71.43</td>\n",
       "      <td>1.274</td>\n",
       "      <td>53.80</td>\n",
       "      <td>0.58</td>\n",
       "      <td>5</td>\n",
       "      <td>91.00182</td>\n",
       "    </tr>\n",
       "    <tr>\n",
       "      <th>42</th>\n",
       "      <td>AURE3</td>\n",
       "      <td>11.940000</td>\n",
       "      <td>-0.830568</td>\n",
       "      <td>10.242983</td>\n",
       "      <td>65</td>\n",
       "      <td>233</td>\n",
       "      <td>68.67</td>\n",
       "      <td>1.314</td>\n",
       "      <td>31.25</td>\n",
       "      <td>0.37</td>\n",
       "      <td>5</td>\n",
       "      <td>90.23238</td>\n",
       "    </tr>\n",
       "    <tr>\n",
       "      <th>43</th>\n",
       "      <td>CRFB3</td>\n",
       "      <td>9.920000</td>\n",
       "      <td>-0.501506</td>\n",
       "      <td>5.137069</td>\n",
       "      <td>71</td>\n",
       "      <td>183</td>\n",
       "      <td>73.22</td>\n",
       "      <td>1.227</td>\n",
       "      <td>38.12</td>\n",
       "      <td>0.51</td>\n",
       "      <td>5</td>\n",
       "      <td>89.84094</td>\n",
       "    </tr>\n",
       "    <tr>\n",
       "      <th>44</th>\n",
       "      <td>BBSE3</td>\n",
       "      <td>32.299999</td>\n",
       "      <td>-0.920243</td>\n",
       "      <td>20.446119</td>\n",
       "      <td>61</td>\n",
       "      <td>221</td>\n",
       "      <td>66.97</td>\n",
       "      <td>1.332</td>\n",
       "      <td>30.43</td>\n",
       "      <td>0.42</td>\n",
       "      <td>5</td>\n",
       "      <td>89.20404</td>\n",
       "    </tr>\n",
       "    <tr>\n",
       "      <th>45</th>\n",
       "      <td>BRAP4</td>\n",
       "      <td>19.200001</td>\n",
       "      <td>-1.081912</td>\n",
       "      <td>3.768258</td>\n",
       "      <td>33</td>\n",
       "      <td>231</td>\n",
       "      <td>68.40</td>\n",
       "      <td>1.279</td>\n",
       "      <td>51.32</td>\n",
       "      <td>0.61</td>\n",
       "      <td>5</td>\n",
       "      <td>87.48360</td>\n",
       "    </tr>\n",
       "    <tr>\n",
       "      <th>46</th>\n",
       "      <td>SBSP3</td>\n",
       "      <td>73.860001</td>\n",
       "      <td>-1.111262</td>\n",
       "      <td>5.331760</td>\n",
       "      <td>69</td>\n",
       "      <td>227</td>\n",
       "      <td>69.60</td>\n",
       "      <td>1.244</td>\n",
       "      <td>47.11</td>\n",
       "      <td>0.41</td>\n",
       "      <td>5</td>\n",
       "      <td>86.58240</td>\n",
       "    </tr>\n",
       "    <tr>\n",
       "      <th>47</th>\n",
       "      <td>FLRY3</td>\n",
       "      <td>14.050000</td>\n",
       "      <td>-0.636493</td>\n",
       "      <td>17.458990</td>\n",
       "      <td>17</td>\n",
       "      <td>240</td>\n",
       "      <td>67.92</td>\n",
       "      <td>1.274</td>\n",
       "      <td>53.97</td>\n",
       "      <td>0.57</td>\n",
       "      <td>5</td>\n",
       "      <td>86.53008</td>\n",
       "    </tr>\n",
       "    <tr>\n",
       "      <th>48</th>\n",
       "      <td>ECOR3</td>\n",
       "      <td>6.890000</td>\n",
       "      <td>-1.147775</td>\n",
       "      <td>6.486959</td>\n",
       "      <td>63</td>\n",
       "      <td>242</td>\n",
       "      <td>66.53</td>\n",
       "      <td>1.286</td>\n",
       "      <td>40.46</td>\n",
       "      <td>0.60</td>\n",
       "      <td>5</td>\n",
       "      <td>85.55758</td>\n",
       "    </tr>\n",
       "    <tr>\n",
       "      <th>49</th>\n",
       "      <td>INEP4</td>\n",
       "      <td>1.900000</td>\n",
       "      <td>0.000000</td>\n",
       "      <td>18.789614</td>\n",
       "      <td>47</td>\n",
       "      <td>246</td>\n",
       "      <td>71.14</td>\n",
       "      <td>1.194</td>\n",
       "      <td>51.56</td>\n",
       "      <td>1.85</td>\n",
       "      <td>4</td>\n",
       "      <td>84.94116</td>\n",
       "    </tr>\n",
       "    <tr>\n",
       "      <th>50</th>\n",
       "      <td>POSI3</td>\n",
       "      <td>9.050000</td>\n",
       "      <td>-1.092890</td>\n",
       "      <td>11.007695</td>\n",
       "      <td>20</td>\n",
       "      <td>235</td>\n",
       "      <td>70.64</td>\n",
       "      <td>1.128</td>\n",
       "      <td>68.96</td>\n",
       "      <td>0.73</td>\n",
       "      <td>5</td>\n",
       "      <td>79.68192</td>\n",
       "    </tr>\n",
       "    <tr>\n",
       "      <th>51</th>\n",
       "      <td>RCSL3</td>\n",
       "      <td>4.540000</td>\n",
       "      <td>-4.621854</td>\n",
       "      <td>10.542920</td>\n",
       "      <td>38</td>\n",
       "      <td>211</td>\n",
       "      <td>68.72</td>\n",
       "      <td>1.103</td>\n",
       "      <td>80.08</td>\n",
       "      <td>1.73</td>\n",
       "      <td>5</td>\n",
       "      <td>75.79816</td>\n",
       "    </tr>\n",
       "    <tr>\n",
       "      <th>52</th>\n",
       "      <td>ELET3</td>\n",
       "      <td>34.790001</td>\n",
       "      <td>-1.444754</td>\n",
       "      <td>1.045052</td>\n",
       "      <td>3</td>\n",
       "      <td>238</td>\n",
       "      <td>64.71</td>\n",
       "      <td>1.165</td>\n",
       "      <td>40.14</td>\n",
       "      <td>0.42</td>\n",
       "      <td>5</td>\n",
       "      <td>75.38715</td>\n",
       "    </tr>\n",
       "    <tr>\n",
       "      <th>53</th>\n",
       "      <td>INEP3</td>\n",
       "      <td>1.890000</td>\n",
       "      <td>-2.577323</td>\n",
       "      <td>8.954891</td>\n",
       "      <td>46</td>\n",
       "      <td>219</td>\n",
       "      <td>63.47</td>\n",
       "      <td>1.161</td>\n",
       "      <td>59.85</td>\n",
       "      <td>1.85</td>\n",
       "      <td>4</td>\n",
       "      <td>73.68867</td>\n",
       "    </tr>\n",
       "  </tbody>\n",
       "</table>\n",
       "</div>"
      ],
      "text/plain": [
       "    Ticker      Close       Var        RSI  index  Total Trades  Profitable %  \\\n",
       "0    REDE3   6.820000 -1.015961  18.837715     49           166         77.11   \n",
       "1    ENGI4   7.790000 -1.517066  10.056356     42           223         79.37   \n",
       "2    TRPL3  33.799999 -2.028988   4.560324     52           193         83.94   \n",
       "3    VIVT3  43.299999 -3.045232   0.925546      2           248         77.42   \n",
       "4    PTNT4   6.970000 -0.428574  12.446942     48           219         78.08   \n",
       "5   TAEE11  34.279999 -0.810193   4.548767      1           220         76.35   \n",
       "6    CPLE6   9.080000 -1.625131   2.052891      0           237         71.31   \n",
       "7    ENGI3  14.020000 -0.142447  20.291964     41           194         73.23   \n",
       "8    MNPR3  10.700000 -5.141843   0.167534     37           239         76.99   \n",
       "9    UCAS3   2.270000 -2.991450   9.856334     50           242         73.97   \n",
       "10   BPAC3  15.700000 -2.302426   6.241875      8           144         69.44   \n",
       "11   EQTL3  29.230000 -0.612038  10.220952     11           235         73.19   \n",
       "12   TRPL4  25.129999 -5.169814   5.415461     53           228         71.93   \n",
       "13   SHUL4   6.070000 -0.816989  17.547087     29           233         75.11   \n",
       "14   CCRO3  12.040000 -0.578032   9.342111      6           247         70.85   \n",
       "15   EGIE3  43.340000 -0.687441   6.470232      7           230         70.87   \n",
       "16   SLCE3  17.820000 -0.724240   5.489565      4           220         72.73   \n",
       "17   ITUB3  26.950001 -0.955525   0.072580     18           250         72.40   \n",
       "18   ENEV3  12.430000  0.000000   7.702402     36           227         70.48   \n",
       "19   ABCB4  21.590000 -0.781250  15.554816     58           239         68.62   \n",
       "20   VULC3  14.760000 -0.739742   2.527115     56           226         70.80   \n",
       "21   MULT3  22.700001 -0.873357  13.256425     12           251         71.31   \n",
       "22   CPFE3  34.099998  0.294113  24.265020     32           223         71.75   \n",
       "23   ATOM3   2.000000 -1.477831   4.530818     40           215         68.37   \n",
       "24   TIMS3  15.860000 -2.579859   2.676497     19           235         67.23   \n",
       "25   ITSA4   9.730000 -1.418443   0.678070     13           234         70.94   \n",
       "26  ENGI11  45.709999 -0.174715  18.480765     15           216         71.76   \n",
       "27   PRIO3  41.610001 -1.932594   2.595670     35           223         71.75   \n",
       "28   MGEL4  13.250000 -2.573532   5.461678     39           230         66.09   \n",
       "29   HYPE3  27.150000 -3.380786   1.739330     67           224         69.64   \n",
       "30   WEGE3  37.549999 -0.477075   0.442049     30           226         73.01   \n",
       "31   RENT3  42.730000 -2.886365   0.077071     21           236         72.88   \n",
       "32   B3SA3  10.700000 -1.654415   1.232277     14           233         68.24   \n",
       "33   RADL3  25.070000 -2.829456   0.187958     64           220         70.91   \n",
       "34   VBBR3  21.540001 -1.553923   4.457764     60           163         70.55   \n",
       "35   TELB4   8.920000 -1.870188  15.144330     43           254         70.87   \n",
       "36   UGPA3  23.170000 -1.822035   2.525769     24           238         68.07   \n",
       "37   VALE3  63.200001 -0.063253   4.194823     31           224         66.96   \n",
       "38   ARZZ3  49.400002 -1.554402   2.822424     23           236         69.07   \n",
       "39   ALPA3   9.500000  0.000000   4.696873     68           227         70.48   \n",
       "40   LREN3  13.120000 -1.796406  23.138226      5           239         69.46   \n",
       "41   JBSS3  28.840000 -0.242130   5.780450      9           224         71.43   \n",
       "42   AURE3  11.940000 -0.830568  10.242983     65           233         68.67   \n",
       "43   CRFB3   9.920000 -0.501506   5.137069     71           183         73.22   \n",
       "44   BBSE3  32.299999 -0.920243  20.446119     61           221         66.97   \n",
       "45   BRAP4  19.200001 -1.081912   3.768258     33           231         68.40   \n",
       "46   SBSP3  73.860001 -1.111262   5.331760     69           227         69.60   \n",
       "47   FLRY3  14.050000 -0.636493  17.458990     17           240         67.92   \n",
       "48   ECOR3   6.890000 -1.147775   6.486959     63           242         66.53   \n",
       "49   INEP4   1.900000  0.000000  18.789614     47           246         71.14   \n",
       "50   POSI3   9.050000 -1.092890  11.007695     20           235         70.64   \n",
       "51   RCSL3   4.540000 -4.621854  10.542920     38           211         68.72   \n",
       "52   ELET3  34.790001 -1.444754   1.045052      3           238         64.71   \n",
       "53   INEP3   1.890000 -2.577323   8.954891     46           219         63.47   \n",
       "\n",
       "    Gain Factor  Max Drawdown  Mean Transaction  Total Candles  \\\n",
       "0         6.000         22.34              2.20              4   \n",
       "1         4.667         15.07              2.54              4   \n",
       "2         3.439         18.58              1.69              4   \n",
       "3         2.769         13.94              0.99              4   \n",
       "4         2.548         42.63              1.87              4   \n",
       "5         2.576         14.87              0.82              5   \n",
       "6         2.521         38.86              1.09              5   \n",
       "7         2.430         24.43              1.66              4   \n",
       "8         2.209         47.55              4.38              4   \n",
       "9         1.964         30.92              1.52              5   \n",
       "10        2.034         26.99              1.22              4   \n",
       "11        1.883         36.45              0.80              5   \n",
       "12        1.859         21.33              0.60              5   \n",
       "13        1.778         44.87              1.34              5   \n",
       "14        1.837         27.18              0.86              5   \n",
       "15        1.751         14.22              0.62              5   \n",
       "16        1.701         30.12              0.91              5   \n",
       "17        1.703         25.29              0.56              5   \n",
       "18        1.723         42.14              1.31              4   \n",
       "19        1.741         37.98              0.62              5   \n",
       "20        1.684         43.90              1.60              5   \n",
       "21        1.641         43.28              0.89              4   \n",
       "22        1.589         43.96              0.54              4   \n",
       "23        1.613         60.84              0.93              5   \n",
       "24        1.591         25.99              0.55              5   \n",
       "25        1.474         31.41              0.54              5   \n",
       "26        1.450         32.07              0.60              4   \n",
       "27        1.426         72.00              1.15              5   \n",
       "28        1.545         51.44              1.85              4   \n",
       "29        1.466         28.37              0.48              5   \n",
       "30        1.379         44.28              0.59              5   \n",
       "31        1.361         55.13              0.71              5   \n",
       "32        1.453         36.20              0.79              5   \n",
       "33        1.392         36.03              0.56              5   \n",
       "34        1.388         38.79              0.57              5   \n",
       "35        1.369         47.47              0.80              5   \n",
       "36        1.403         43.53              0.53              5   \n",
       "37        1.401         46.04              0.68              5   \n",
       "38        1.345         33.14              0.69              5   \n",
       "39        1.311         51.98              0.76              4   \n",
       "40        1.313         36.13              0.67              5   \n",
       "41        1.274         53.80              0.58              5   \n",
       "42        1.314         31.25              0.37              5   \n",
       "43        1.227         38.12              0.51              5   \n",
       "44        1.332         30.43              0.42              5   \n",
       "45        1.279         51.32              0.61              5   \n",
       "46        1.244         47.11              0.41              5   \n",
       "47        1.274         53.97              0.57              5   \n",
       "48        1.286         40.46              0.60              5   \n",
       "49        1.194         51.56              1.85              4   \n",
       "50        1.128         68.96              0.73              5   \n",
       "51        1.103         80.08              1.73              5   \n",
       "52        1.165         40.14              0.42              5   \n",
       "53        1.161         59.85              1.85              4   \n",
       "\n",
       "    Greatness Factor  \n",
       "0          462.66000  \n",
       "1          370.41979  \n",
       "2          288.66966  \n",
       "3          214.37598  \n",
       "4          198.94784  \n",
       "5          196.67760  \n",
       "6          179.77251  \n",
       "7          177.94890  \n",
       "8          170.07091  \n",
       "9          145.27708  \n",
       "10         141.24096  \n",
       "11         137.81677  \n",
       "12         133.71787  \n",
       "13         133.54558  \n",
       "14         130.15145  \n",
       "15         124.09337  \n",
       "16         123.71373  \n",
       "17         123.29720  \n",
       "18         121.43704  \n",
       "19         119.46742  \n",
       "20         119.22720  \n",
       "21         117.01971  \n",
       "22         114.01075  \n",
       "23         110.28081  \n",
       "24         106.96293  \n",
       "25         104.56556  \n",
       "26         104.05200  \n",
       "27         102.31550  \n",
       "28         102.10905  \n",
       "29         102.09224  \n",
       "30         100.68079  \n",
       "31          99.18968  \n",
       "32          99.15272  \n",
       "33          98.70672  \n",
       "34          97.92340  \n",
       "35          97.02103  \n",
       "36          95.50221  \n",
       "37          93.81096  \n",
       "38          92.89915  \n",
       "39          92.39928  \n",
       "40          91.20098  \n",
       "41          91.00182  \n",
       "42          90.23238  \n",
       "43          89.84094  \n",
       "44          89.20404  \n",
       "45          87.48360  \n",
       "46          86.58240  \n",
       "47          86.53008  \n",
       "48          85.55758  \n",
       "49          84.94116  \n",
       "50          79.68192  \n",
       "51          75.79816  \n",
       "52          75.38715  \n",
       "53          73.68867  "
      ]
     },
     "execution_count": 11,
     "metadata": {},
     "output_type": "execute_result"
    }
   ],
   "source": [
    "oversold_df"
   ]
  },
  {
   "cell_type": "code",
   "execution_count": 15,
   "metadata": {},
   "outputs": [
    {
     "data": {
      "text/plain": [
       "['asd@gmail', 'basdbas@asd']"
      ]
     },
     "execution_count": 15,
     "metadata": {},
     "output_type": "execute_result"
    }
   ],
   "source": [
    "\"asd@gmail,basdbas@asd\".split(',')"
   ]
  },
  {
   "cell_type": "code",
   "execution_count": 17,
   "metadata": {},
   "outputs": [
    {
     "name": "stdout",
     "output_type": "stream",
     "text": [
      "Message sent!\n"
     ]
    }
   ],
   "source": [
    "ascii_table = tabulate(oversold_df[[\"Ticker\", \"Var\", \"RSI\", \"Greatness Factor\"]], headers='keys', tablefmt='markdown')\n",
    "\n",
    "subject = \"IFR2 Screener - Daily Collection\"\n",
    "body = ascii_table\n",
    "\n",
    "with open(\"./.secrets/credentials.json\", \"r\") as file:\n",
    "   credentials = json.load(file)\n",
    "\n",
    "sender = credentials[\"sender\"]\n",
    "recipients = credentials[\"recipients\"]\n",
    "password = credentials[\"password\"]\n",
    "\n",
    "def send_email(subject, body, sender, recipients, password):\n",
    "   msg = MIMEText(body)\n",
    "   msg['Subject'] = subject\n",
    "   msg['From'] = sender\n",
    "   msg['To'] = recipients\n",
    "   with smtplib.SMTP_SSL('smtp.gmail.com', 465) as smtp_server:\n",
    "      smtp_server.login(sender, password)\n",
    "      smtp_server.sendmail(sender, recipients.split(','), msg.as_string())\n",
    "   print(\"Message sent!\")\n",
    "\n",
    "send_email(subject, body, sender, recipients, password)"
   ]
  },
  {
   "cell_type": "code",
   "execution_count": null,
   "metadata": {},
   "outputs": [],
   "source": []
  }
 ],
 "metadata": {
  "kernelspec": {
   "display_name": ".venv",
   "language": "python",
   "name": "python3"
  },
  "language_info": {
   "codemirror_mode": {
    "name": "ipython",
    "version": 3
   },
   "file_extension": ".py",
   "mimetype": "text/x-python",
   "name": "python",
   "nbconvert_exporter": "python",
   "pygments_lexer": "ipython3",
   "version": "3.11.9"
  }
 },
 "nbformat": 4,
 "nbformat_minor": 2
}
