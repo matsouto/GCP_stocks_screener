{
 "cells": [
  {
   "cell_type": "code",
   "execution_count": 12,
   "metadata": {},
   "outputs": [],
   "source": [
    "import smtplib\n",
    "import json\n",
    "import tabulate\n",
    "from email.mime.text import MIMEText\n",
    "import yfinance as yf\n",
    "import pandas as pd\n",
    "import plotly.express as px\n",
    "from datetime import datetime, timedelta"
   ]
  },
  {
   "cell_type": "code",
   "execution_count": 3,
   "metadata": {},
   "outputs": [],
   "source": [
    "oversold = 25\n",
    "period = 2\n",
    "timeframe = \"1d\""
   ]
  },
  {
   "cell_type": "code",
   "execution_count": 4,
   "metadata": {},
   "outputs": [
    {
     "data": {
      "text/html": [
       "<div>\n",
       "<style scoped>\n",
       "    .dataframe tbody tr th:only-of-type {\n",
       "        vertical-align: middle;\n",
       "    }\n",
       "\n",
       "    .dataframe tbody tr th {\n",
       "        vertical-align: top;\n",
       "    }\n",
       "\n",
       "    .dataframe thead th {\n",
       "        text-align: right;\n",
       "    }\n",
       "</style>\n",
       "<table border=\"1\" class=\"dataframe\">\n",
       "  <thead>\n",
       "    <tr style=\"text-align: right;\">\n",
       "      <th></th>\n",
       "      <th>Ticker</th>\n",
       "      <th>Total Trades</th>\n",
       "      <th>Profitable %</th>\n",
       "      <th>Gain Factor</th>\n",
       "      <th>Max Drawdown</th>\n",
       "      <th>Mean Transaction</th>\n",
       "      <th>Total Candles</th>\n",
       "    </tr>\n",
       "  </thead>\n",
       "  <tbody>\n",
       "    <tr>\n",
       "      <th>0</th>\n",
       "      <td>CPLE6</td>\n",
       "      <td>237</td>\n",
       "      <td>71.31</td>\n",
       "      <td>2.521</td>\n",
       "      <td>38.86</td>\n",
       "      <td>1.09</td>\n",
       "      <td>5</td>\n",
       "    </tr>\n",
       "    <tr>\n",
       "      <th>1</th>\n",
       "      <td>TAEE11</td>\n",
       "      <td>220</td>\n",
       "      <td>76.35</td>\n",
       "      <td>2.576</td>\n",
       "      <td>14.87</td>\n",
       "      <td>0.82</td>\n",
       "      <td>5</td>\n",
       "    </tr>\n",
       "    <tr>\n",
       "      <th>2</th>\n",
       "      <td>VIVT3</td>\n",
       "      <td>248</td>\n",
       "      <td>77.42</td>\n",
       "      <td>2.769</td>\n",
       "      <td>13.94</td>\n",
       "      <td>0.99</td>\n",
       "      <td>4</td>\n",
       "    </tr>\n",
       "    <tr>\n",
       "      <th>3</th>\n",
       "      <td>ELET3</td>\n",
       "      <td>238</td>\n",
       "      <td>64.71</td>\n",
       "      <td>1.165</td>\n",
       "      <td>40.14</td>\n",
       "      <td>0.42</td>\n",
       "      <td>5</td>\n",
       "    </tr>\n",
       "    <tr>\n",
       "      <th>4</th>\n",
       "      <td>SLCE3</td>\n",
       "      <td>220</td>\n",
       "      <td>72.73</td>\n",
       "      <td>1.701</td>\n",
       "      <td>30.12</td>\n",
       "      <td>0.91</td>\n",
       "      <td>5</td>\n",
       "    </tr>\n",
       "    <tr>\n",
       "      <th>...</th>\n",
       "      <td>...</td>\n",
       "      <td>...</td>\n",
       "      <td>...</td>\n",
       "      <td>...</td>\n",
       "      <td>...</td>\n",
       "      <td>...</td>\n",
       "      <td>...</td>\n",
       "    </tr>\n",
       "    <tr>\n",
       "      <th>67</th>\n",
       "      <td>HYPE3</td>\n",
       "      <td>224</td>\n",
       "      <td>69.64</td>\n",
       "      <td>1.466</td>\n",
       "      <td>28.37</td>\n",
       "      <td>0.48</td>\n",
       "      <td>5</td>\n",
       "    </tr>\n",
       "    <tr>\n",
       "      <th>68</th>\n",
       "      <td>ALPA3</td>\n",
       "      <td>227</td>\n",
       "      <td>70.48</td>\n",
       "      <td>1.311</td>\n",
       "      <td>51.98</td>\n",
       "      <td>0.76</td>\n",
       "      <td>4</td>\n",
       "    </tr>\n",
       "    <tr>\n",
       "      <th>69</th>\n",
       "      <td>SBSP3</td>\n",
       "      <td>227</td>\n",
       "      <td>69.60</td>\n",
       "      <td>1.244</td>\n",
       "      <td>47.11</td>\n",
       "      <td>0.41</td>\n",
       "      <td>5</td>\n",
       "    </tr>\n",
       "    <tr>\n",
       "      <th>70</th>\n",
       "      <td>PETR3</td>\n",
       "      <td>218</td>\n",
       "      <td>68.35</td>\n",
       "      <td>1.356</td>\n",
       "      <td>66.05</td>\n",
       "      <td>0.82</td>\n",
       "      <td>5</td>\n",
       "    </tr>\n",
       "    <tr>\n",
       "      <th>71</th>\n",
       "      <td>CRFB3</td>\n",
       "      <td>183</td>\n",
       "      <td>73.22</td>\n",
       "      <td>1.227</td>\n",
       "      <td>38.12</td>\n",
       "      <td>0.51</td>\n",
       "      <td>5</td>\n",
       "    </tr>\n",
       "  </tbody>\n",
       "</table>\n",
       "<p>72 rows × 7 columns</p>\n",
       "</div>"
      ],
      "text/plain": [
       "    Ticker  Total Trades  Profitable %  Gain Factor  Max Drawdown  \\\n",
       "0    CPLE6           237         71.31        2.521         38.86   \n",
       "1   TAEE11           220         76.35        2.576         14.87   \n",
       "2    VIVT3           248         77.42        2.769         13.94   \n",
       "3    ELET3           238         64.71        1.165         40.14   \n",
       "4    SLCE3           220         72.73        1.701         30.12   \n",
       "..     ...           ...           ...          ...           ...   \n",
       "67   HYPE3           224         69.64        1.466         28.37   \n",
       "68   ALPA3           227         70.48        1.311         51.98   \n",
       "69   SBSP3           227         69.60        1.244         47.11   \n",
       "70   PETR3           218         68.35        1.356         66.05   \n",
       "71   CRFB3           183         73.22        1.227         38.12   \n",
       "\n",
       "    Mean Transaction  Total Candles  \n",
       "0               1.09              5  \n",
       "1               0.82              5  \n",
       "2               0.99              4  \n",
       "3               0.42              5  \n",
       "4               0.91              5  \n",
       "..               ...            ...  \n",
       "67              0.48              5  \n",
       "68              0.76              4  \n",
       "69              0.41              5  \n",
       "70              0.82              5  \n",
       "71              0.51              5  \n",
       "\n",
       "[72 rows x 7 columns]"
      ]
     },
     "execution_count": 4,
     "metadata": {},
     "output_type": "execute_result"
    }
   ],
   "source": [
    "'''\n",
    "The backtesting results were obtained using TradingView for the following parameters:\n",
    "oversold <= 25\n",
    "time period: 01-01-2015 to 30-05-2024\n",
    "Only the best performing stocks were selected!\n",
    "'''\n",
    "\n",
    "backtesting_result = pd.read_csv(\"./ifr2_best_stocks_backtesting.csv\")\n",
    "backtesting_result"
   ]
  },
  {
   "cell_type": "code",
   "execution_count": 5,
   "metadata": {},
   "outputs": [],
   "source": [
    "# Define a custom scaling function\n",
    "def custom_scale(series, scale_factor=10):\n",
    "    min_val = series.min()\n",
    "    max_val = series.max()\n",
    "    return ((series - min_val) / (max_val - min_val) * scale_factor) + 1\n",
    "\n",
    "# Apply the custom scaling function\n",
    "backtesting_result['Total Candles Scaled'] = custom_scale(backtesting_result['Total Candles'])\n",
    "backtesting_result[\"Greatness Factor\"] = backtesting_result[\"Gain Factor\"] * backtesting_result[\"Profitable %\"]\n",
    "backtesting_result[\"Greatness Factor Scaled\"] = custom_scale(backtesting_result[\"Greatness Factor\"], 50)\n",
    "backtesting_result.sort_values(by=\"Greatness Factor\", inplace=True)\n",
    "backtesting_result.reset_index(inplace=True)"
   ]
  },
  {
   "cell_type": "code",
   "execution_count": 6,
   "metadata": {},
   "outputs": [
    {
     "data": {
      "application/vnd.plotly.v1+json": {
       "config": {
        "plotlyServerURL": "https://plot.ly"
       },
       "data": [
        {
         "hovertemplate": "Profitable %=%{x}<br>Gain Factor=%{y}<br>Total Trades=%{z}<br>Total Candles Scaled=%{marker.size}<br>Ticker=%{text}<br>Max Drawdown=%{marker.color}<extra></extra>",
         "legendgroup": "",
         "marker": {
          "color": [
           59.85,
           40.14,
           80.08,
           42.2,
           48.14,
           68.96,
           51.56,
           43.14,
           40.46,
           31.56,
           53.97,
           47.11,
           51.32,
           30.43,
           47.51,
           38.12,
           31.25,
           53.8,
           36.13,
           51.98,
           66.05,
           33.14,
           46.04,
           43.53,
           46.57,
           47.47,
           38.79,
           36.03,
           36.2,
           55.13,
           44.28,
           28.37,
           51.44,
           65.77,
           72,
           32.07,
           31.41,
           48.81,
           25.99,
           60.84,
           39.75,
           43.96,
           37.05,
           39.99,
           43.28,
           40.01,
           43.9,
           37.98,
           42.14,
           25.29,
           30.12,
           14.22,
           27.18,
           44.87,
           21.33,
           35.5,
           36.45,
           26.99,
           30.92,
           35.64,
           47.55,
           24.43,
           38.86,
           31.31,
           14.87,
           42.63,
           13.94,
           32.99,
           18.58,
           15.07,
           32.23,
           22.34
          ],
          "coloraxis": "coloraxis",
          "size": [
           1,
           11,
           11,
           11,
           11,
           11,
           1,
           11,
           11,
           11,
           11,
           11,
           11,
           11,
           11,
           11,
           11,
           11,
           11,
           1,
           11,
           11,
           11,
           11,
           11,
           11,
           11,
           11,
           11,
           11,
           11,
           11,
           1,
           11,
           11,
           1,
           11,
           11,
           11,
           11,
           11,
           1,
           1,
           11,
           1,
           11,
           11,
           11,
           1,
           11,
           11,
           11,
           11,
           11,
           11,
           1,
           11,
           1,
           11,
           11,
           1,
           1,
           11,
           1,
           11,
           1,
           1,
           1,
           1,
           1,
           1,
           1
          ],
          "sizemode": "area",
          "sizeref": 0.012222222222222223,
          "symbol": "circle"
         },
         "mode": "markers+text",
         "name": "",
         "scene": "scene",
         "showlegend": false,
         "text": [
          "INEP3",
          "ELET3",
          "RCSL3",
          "PSSA3",
          "DXCO3",
          "POSI3",
          "INEP4",
          "MRVE3",
          "ECOR3",
          "NTCO3",
          "FLRY3",
          "SBSP3",
          "BRAP4",
          "BBSE3",
          "EZTC3",
          "CRFB3",
          "AURE3",
          "JBSS3",
          "LREN3",
          "ALPA3",
          "PETR3",
          "ARZZ3",
          "VALE3",
          "UGPA3",
          "ENAT3",
          "TELB4",
          "VBBR3",
          "RADL3",
          "B3SA3",
          "RENT3",
          "WEGE3",
          "HYPE3",
          "MGEL4",
          "PETR4",
          "PRIO3",
          "ENGI11",
          "ITSA4",
          "BIOM3",
          "TIMS3",
          "ATOM3",
          "TOTS3",
          "CPFE3",
          "OSXB3",
          "ABEV3",
          "MULT3",
          "SANB11",
          "VULC3",
          "ABCB4",
          "ENEV3",
          "ITUB3",
          "SLCE3",
          "EGIE3",
          "CCRO3",
          "SHUL4",
          "TRPL4",
          "SANB3",
          "EQTL3",
          "BPAC3",
          "UCAS3",
          "SANB4",
          "MNPR3",
          "ENGI3",
          "CPLE6",
          "MTSA4",
          "TAEE11",
          "PTNT4",
          "VIVT3",
          "BMEB4",
          "TRPL3",
          "ENGI4",
          "MNDL3",
          "REDE3"
         ],
         "type": "scatter3d",
         "x": [
          63.47,
          64.71,
          68.72,
          68.54,
          66.67,
          70.64,
          71.14,
          67.61,
          66.53,
          67.23,
          67.92,
          69.6,
          68.4,
          66.97,
          68.94,
          73.22,
          68.67,
          71.43,
          69.46,
          70.48,
          68.35,
          69.07,
          66.96,
          68.07,
          66.67,
          70.87,
          70.55,
          70.91,
          68.24,
          72.88,
          73.01,
          69.64,
          66.09,
          70.72,
          71.75,
          71.76,
          70.94,
          74.89,
          67.23,
          68.37,
          70.09,
          71.75,
          70.31,
          72.08,
          71.31,
          74.49,
          70.8,
          68.62,
          70.48,
          72.4,
          72.73,
          70.87,
          70.85,
          75.11,
          71.93,
          74.79,
          73.19,
          69.44,
          73.97,
          77.24,
          76.99,
          73.23,
          71.31,
          77.06,
          76.35,
          78.08,
          77.42,
          82.84,
          83.94,
          79.37,
          77.84,
          77.11
         ],
         "y": [
          1.161,
          1.165,
          1.103,
          1.114,
          1.153,
          1.128,
          1.194,
          1.257,
          1.286,
          1.285,
          1.274,
          1.244,
          1.279,
          1.332,
          1.301,
          1.227,
          1.314,
          1.274,
          1.313,
          1.311,
          1.356,
          1.345,
          1.401,
          1.403,
          1.434,
          1.369,
          1.388,
          1.392,
          1.453,
          1.361,
          1.379,
          1.466,
          1.545,
          1.446,
          1.426,
          1.45,
          1.474,
          1.425,
          1.591,
          1.613,
          1.609,
          1.589,
          1.65,
          1.623,
          1.641,
          1.578,
          1.684,
          1.741,
          1.723,
          1.703,
          1.701,
          1.751,
          1.837,
          1.778,
          1.859,
          1.793,
          1.883,
          2.034,
          1.964,
          2.036,
          2.209,
          2.43,
          2.521,
          2.411,
          2.576,
          2.548,
          2.769,
          2.683,
          3.439,
          4.667,
          5.528,
          6
         ],
         "z": [
          219,
          238,
          211,
          213,
          234,
          235,
          246,
          247,
          242,
          235,
          240,
          227,
          231,
          221,
          235,
          183,
          233,
          224,
          239,
          227,
          218,
          236,
          224,
          238,
          228,
          254,
          163,
          220,
          233,
          236,
          226,
          224,
          230,
          222,
          223,
          216,
          234,
          223,
          235,
          215,
          234,
          223,
          256,
          240,
          251,
          243,
          226,
          239,
          227,
          250,
          220,
          230,
          247,
          233,
          228,
          234,
          235,
          144,
          242,
          246,
          239,
          194,
          237,
          231,
          220,
          219,
          248,
          204,
          193,
          223,
          194,
          166
         ]
        }
       ],
       "layout": {
        "coloraxis": {
         "colorbar": {
          "title": {
           "text": "Max Drawdown"
          }
         },
         "colorscale": [
          [
           0,
           "#0d0887"
          ],
          [
           0.1111111111111111,
           "#46039f"
          ],
          [
           0.2222222222222222,
           "#7201a8"
          ],
          [
           0.3333333333333333,
           "#9c179e"
          ],
          [
           0.4444444444444444,
           "#bd3786"
          ],
          [
           0.5555555555555556,
           "#d8576b"
          ],
          [
           0.6666666666666666,
           "#ed7953"
          ],
          [
           0.7777777777777778,
           "#fb9f3a"
          ],
          [
           0.8888888888888888,
           "#fdca26"
          ],
          [
           1,
           "#f0f921"
          ]
         ]
        },
        "legend": {
         "itemsizing": "constant",
         "tracegroupgap": 0
        },
        "margin": {
         "t": 60
        },
        "scene": {
         "domain": {
          "x": [
           0,
           1
          ],
          "y": [
           0,
           1
          ]
         },
         "xaxis": {
          "title": {
           "text": "Profitable %"
          }
         },
         "yaxis": {
          "title": {
           "text": "Gain Factor"
          }
         },
         "zaxis": {
          "title": {
           "text": "Total Trades"
          }
         }
        },
        "template": {
         "data": {
          "bar": [
           {
            "error_x": {
             "color": "#2a3f5f"
            },
            "error_y": {
             "color": "#2a3f5f"
            },
            "marker": {
             "line": {
              "color": "#E5ECF6",
              "width": 0.5
             },
             "pattern": {
              "fillmode": "overlay",
              "size": 10,
              "solidity": 0.2
             }
            },
            "type": "bar"
           }
          ],
          "barpolar": [
           {
            "marker": {
             "line": {
              "color": "#E5ECF6",
              "width": 0.5
             },
             "pattern": {
              "fillmode": "overlay",
              "size": 10,
              "solidity": 0.2
             }
            },
            "type": "barpolar"
           }
          ],
          "carpet": [
           {
            "aaxis": {
             "endlinecolor": "#2a3f5f",
             "gridcolor": "white",
             "linecolor": "white",
             "minorgridcolor": "white",
             "startlinecolor": "#2a3f5f"
            },
            "baxis": {
             "endlinecolor": "#2a3f5f",
             "gridcolor": "white",
             "linecolor": "white",
             "minorgridcolor": "white",
             "startlinecolor": "#2a3f5f"
            },
            "type": "carpet"
           }
          ],
          "choropleth": [
           {
            "colorbar": {
             "outlinewidth": 0,
             "ticks": ""
            },
            "type": "choropleth"
           }
          ],
          "contour": [
           {
            "colorbar": {
             "outlinewidth": 0,
             "ticks": ""
            },
            "colorscale": [
             [
              0,
              "#0d0887"
             ],
             [
              0.1111111111111111,
              "#46039f"
             ],
             [
              0.2222222222222222,
              "#7201a8"
             ],
             [
              0.3333333333333333,
              "#9c179e"
             ],
             [
              0.4444444444444444,
              "#bd3786"
             ],
             [
              0.5555555555555556,
              "#d8576b"
             ],
             [
              0.6666666666666666,
              "#ed7953"
             ],
             [
              0.7777777777777778,
              "#fb9f3a"
             ],
             [
              0.8888888888888888,
              "#fdca26"
             ],
             [
              1,
              "#f0f921"
             ]
            ],
            "type": "contour"
           }
          ],
          "contourcarpet": [
           {
            "colorbar": {
             "outlinewidth": 0,
             "ticks": ""
            },
            "type": "contourcarpet"
           }
          ],
          "heatmap": [
           {
            "colorbar": {
             "outlinewidth": 0,
             "ticks": ""
            },
            "colorscale": [
             [
              0,
              "#0d0887"
             ],
             [
              0.1111111111111111,
              "#46039f"
             ],
             [
              0.2222222222222222,
              "#7201a8"
             ],
             [
              0.3333333333333333,
              "#9c179e"
             ],
             [
              0.4444444444444444,
              "#bd3786"
             ],
             [
              0.5555555555555556,
              "#d8576b"
             ],
             [
              0.6666666666666666,
              "#ed7953"
             ],
             [
              0.7777777777777778,
              "#fb9f3a"
             ],
             [
              0.8888888888888888,
              "#fdca26"
             ],
             [
              1,
              "#f0f921"
             ]
            ],
            "type": "heatmap"
           }
          ],
          "heatmapgl": [
           {
            "colorbar": {
             "outlinewidth": 0,
             "ticks": ""
            },
            "colorscale": [
             [
              0,
              "#0d0887"
             ],
             [
              0.1111111111111111,
              "#46039f"
             ],
             [
              0.2222222222222222,
              "#7201a8"
             ],
             [
              0.3333333333333333,
              "#9c179e"
             ],
             [
              0.4444444444444444,
              "#bd3786"
             ],
             [
              0.5555555555555556,
              "#d8576b"
             ],
             [
              0.6666666666666666,
              "#ed7953"
             ],
             [
              0.7777777777777778,
              "#fb9f3a"
             ],
             [
              0.8888888888888888,
              "#fdca26"
             ],
             [
              1,
              "#f0f921"
             ]
            ],
            "type": "heatmapgl"
           }
          ],
          "histogram": [
           {
            "marker": {
             "pattern": {
              "fillmode": "overlay",
              "size": 10,
              "solidity": 0.2
             }
            },
            "type": "histogram"
           }
          ],
          "histogram2d": [
           {
            "colorbar": {
             "outlinewidth": 0,
             "ticks": ""
            },
            "colorscale": [
             [
              0,
              "#0d0887"
             ],
             [
              0.1111111111111111,
              "#46039f"
             ],
             [
              0.2222222222222222,
              "#7201a8"
             ],
             [
              0.3333333333333333,
              "#9c179e"
             ],
             [
              0.4444444444444444,
              "#bd3786"
             ],
             [
              0.5555555555555556,
              "#d8576b"
             ],
             [
              0.6666666666666666,
              "#ed7953"
             ],
             [
              0.7777777777777778,
              "#fb9f3a"
             ],
             [
              0.8888888888888888,
              "#fdca26"
             ],
             [
              1,
              "#f0f921"
             ]
            ],
            "type": "histogram2d"
           }
          ],
          "histogram2dcontour": [
           {
            "colorbar": {
             "outlinewidth": 0,
             "ticks": ""
            },
            "colorscale": [
             [
              0,
              "#0d0887"
             ],
             [
              0.1111111111111111,
              "#46039f"
             ],
             [
              0.2222222222222222,
              "#7201a8"
             ],
             [
              0.3333333333333333,
              "#9c179e"
             ],
             [
              0.4444444444444444,
              "#bd3786"
             ],
             [
              0.5555555555555556,
              "#d8576b"
             ],
             [
              0.6666666666666666,
              "#ed7953"
             ],
             [
              0.7777777777777778,
              "#fb9f3a"
             ],
             [
              0.8888888888888888,
              "#fdca26"
             ],
             [
              1,
              "#f0f921"
             ]
            ],
            "type": "histogram2dcontour"
           }
          ],
          "mesh3d": [
           {
            "colorbar": {
             "outlinewidth": 0,
             "ticks": ""
            },
            "type": "mesh3d"
           }
          ],
          "parcoords": [
           {
            "line": {
             "colorbar": {
              "outlinewidth": 0,
              "ticks": ""
             }
            },
            "type": "parcoords"
           }
          ],
          "pie": [
           {
            "automargin": true,
            "type": "pie"
           }
          ],
          "scatter": [
           {
            "fillpattern": {
             "fillmode": "overlay",
             "size": 10,
             "solidity": 0.2
            },
            "type": "scatter"
           }
          ],
          "scatter3d": [
           {
            "line": {
             "colorbar": {
              "outlinewidth": 0,
              "ticks": ""
             }
            },
            "marker": {
             "colorbar": {
              "outlinewidth": 0,
              "ticks": ""
             }
            },
            "type": "scatter3d"
           }
          ],
          "scattercarpet": [
           {
            "marker": {
             "colorbar": {
              "outlinewidth": 0,
              "ticks": ""
             }
            },
            "type": "scattercarpet"
           }
          ],
          "scattergeo": [
           {
            "marker": {
             "colorbar": {
              "outlinewidth": 0,
              "ticks": ""
             }
            },
            "type": "scattergeo"
           }
          ],
          "scattergl": [
           {
            "marker": {
             "colorbar": {
              "outlinewidth": 0,
              "ticks": ""
             }
            },
            "type": "scattergl"
           }
          ],
          "scattermapbox": [
           {
            "marker": {
             "colorbar": {
              "outlinewidth": 0,
              "ticks": ""
             }
            },
            "type": "scattermapbox"
           }
          ],
          "scatterpolar": [
           {
            "marker": {
             "colorbar": {
              "outlinewidth": 0,
              "ticks": ""
             }
            },
            "type": "scatterpolar"
           }
          ],
          "scatterpolargl": [
           {
            "marker": {
             "colorbar": {
              "outlinewidth": 0,
              "ticks": ""
             }
            },
            "type": "scatterpolargl"
           }
          ],
          "scatterternary": [
           {
            "marker": {
             "colorbar": {
              "outlinewidth": 0,
              "ticks": ""
             }
            },
            "type": "scatterternary"
           }
          ],
          "surface": [
           {
            "colorbar": {
             "outlinewidth": 0,
             "ticks": ""
            },
            "colorscale": [
             [
              0,
              "#0d0887"
             ],
             [
              0.1111111111111111,
              "#46039f"
             ],
             [
              0.2222222222222222,
              "#7201a8"
             ],
             [
              0.3333333333333333,
              "#9c179e"
             ],
             [
              0.4444444444444444,
              "#bd3786"
             ],
             [
              0.5555555555555556,
              "#d8576b"
             ],
             [
              0.6666666666666666,
              "#ed7953"
             ],
             [
              0.7777777777777778,
              "#fb9f3a"
             ],
             [
              0.8888888888888888,
              "#fdca26"
             ],
             [
              1,
              "#f0f921"
             ]
            ],
            "type": "surface"
           }
          ],
          "table": [
           {
            "cells": {
             "fill": {
              "color": "#EBF0F8"
             },
             "line": {
              "color": "white"
             }
            },
            "header": {
             "fill": {
              "color": "#C8D4E3"
             },
             "line": {
              "color": "white"
             }
            },
            "type": "table"
           }
          ]
         },
         "layout": {
          "annotationdefaults": {
           "arrowcolor": "#2a3f5f",
           "arrowhead": 0,
           "arrowwidth": 1
          },
          "autotypenumbers": "strict",
          "coloraxis": {
           "colorbar": {
            "outlinewidth": 0,
            "ticks": ""
           }
          },
          "colorscale": {
           "diverging": [
            [
             0,
             "#8e0152"
            ],
            [
             0.1,
             "#c51b7d"
            ],
            [
             0.2,
             "#de77ae"
            ],
            [
             0.3,
             "#f1b6da"
            ],
            [
             0.4,
             "#fde0ef"
            ],
            [
             0.5,
             "#f7f7f7"
            ],
            [
             0.6,
             "#e6f5d0"
            ],
            [
             0.7,
             "#b8e186"
            ],
            [
             0.8,
             "#7fbc41"
            ],
            [
             0.9,
             "#4d9221"
            ],
            [
             1,
             "#276419"
            ]
           ],
           "sequential": [
            [
             0,
             "#0d0887"
            ],
            [
             0.1111111111111111,
             "#46039f"
            ],
            [
             0.2222222222222222,
             "#7201a8"
            ],
            [
             0.3333333333333333,
             "#9c179e"
            ],
            [
             0.4444444444444444,
             "#bd3786"
            ],
            [
             0.5555555555555556,
             "#d8576b"
            ],
            [
             0.6666666666666666,
             "#ed7953"
            ],
            [
             0.7777777777777778,
             "#fb9f3a"
            ],
            [
             0.8888888888888888,
             "#fdca26"
            ],
            [
             1,
             "#f0f921"
            ]
           ],
           "sequentialminus": [
            [
             0,
             "#0d0887"
            ],
            [
             0.1111111111111111,
             "#46039f"
            ],
            [
             0.2222222222222222,
             "#7201a8"
            ],
            [
             0.3333333333333333,
             "#9c179e"
            ],
            [
             0.4444444444444444,
             "#bd3786"
            ],
            [
             0.5555555555555556,
             "#d8576b"
            ],
            [
             0.6666666666666666,
             "#ed7953"
            ],
            [
             0.7777777777777778,
             "#fb9f3a"
            ],
            [
             0.8888888888888888,
             "#fdca26"
            ],
            [
             1,
             "#f0f921"
            ]
           ]
          },
          "colorway": [
           "#636efa",
           "#EF553B",
           "#00cc96",
           "#ab63fa",
           "#FFA15A",
           "#19d3f3",
           "#FF6692",
           "#B6E880",
           "#FF97FF",
           "#FECB52"
          ],
          "font": {
           "color": "#2a3f5f"
          },
          "geo": {
           "bgcolor": "white",
           "lakecolor": "white",
           "landcolor": "#E5ECF6",
           "showlakes": true,
           "showland": true,
           "subunitcolor": "white"
          },
          "hoverlabel": {
           "align": "left"
          },
          "hovermode": "closest",
          "mapbox": {
           "style": "light"
          },
          "paper_bgcolor": "white",
          "plot_bgcolor": "#E5ECF6",
          "polar": {
           "angularaxis": {
            "gridcolor": "white",
            "linecolor": "white",
            "ticks": ""
           },
           "bgcolor": "#E5ECF6",
           "radialaxis": {
            "gridcolor": "white",
            "linecolor": "white",
            "ticks": ""
           }
          },
          "scene": {
           "xaxis": {
            "backgroundcolor": "#E5ECF6",
            "gridcolor": "white",
            "gridwidth": 2,
            "linecolor": "white",
            "showbackground": true,
            "ticks": "",
            "zerolinecolor": "white"
           },
           "yaxis": {
            "backgroundcolor": "#E5ECF6",
            "gridcolor": "white",
            "gridwidth": 2,
            "linecolor": "white",
            "showbackground": true,
            "ticks": "",
            "zerolinecolor": "white"
           },
           "zaxis": {
            "backgroundcolor": "#E5ECF6",
            "gridcolor": "white",
            "gridwidth": 2,
            "linecolor": "white",
            "showbackground": true,
            "ticks": "",
            "zerolinecolor": "white"
           }
          },
          "shapedefaults": {
           "line": {
            "color": "#2a3f5f"
           }
          },
          "ternary": {
           "aaxis": {
            "gridcolor": "white",
            "linecolor": "white",
            "ticks": ""
           },
           "baxis": {
            "gridcolor": "white",
            "linecolor": "white",
            "ticks": ""
           },
           "bgcolor": "#E5ECF6",
           "caxis": {
            "gridcolor": "white",
            "linecolor": "white",
            "ticks": ""
           }
          },
          "title": {
           "x": 0.05
          },
          "xaxis": {
           "automargin": true,
           "gridcolor": "white",
           "linecolor": "white",
           "ticks": "",
           "title": {
            "standoff": 15
           },
           "zerolinecolor": "white",
           "zerolinewidth": 2
          },
          "yaxis": {
           "automargin": true,
           "gridcolor": "white",
           "linecolor": "white",
           "ticks": "",
           "title": {
            "standoff": 15
           },
           "zerolinecolor": "white",
           "zerolinewidth": 2
          }
         }
        }
       }
      }
     },
     "metadata": {},
     "output_type": "display_data"
    }
   ],
   "source": [
    "# Create 3D scatter plot\n",
    "fig = px.scatter_3d(backtesting_result, x='Profitable %', y='Gain Factor', z='Total Trades', color=\"Max Drawdown\", size=\"Total Candles Scaled\", text=\"Ticker\", size_max=30)\n",
    "\n",
    "# Show plot\n",
    "fig.show()"
   ]
  },
  {
   "cell_type": "code",
   "execution_count": 7,
   "metadata": {},
   "outputs": [
    {
     "name": "stderr",
     "output_type": "stream",
     "text": [
      "[*********************100%%**********************]  72 of 72 completed\n"
     ]
    }
   ],
   "source": [
    "today = datetime.today()\n",
    "i_date = (today - timedelta(days=30)).strftime('%Y-%m-%d')\n",
    "f_date = today.strftime('%Y-%m-%d')\n",
    "selected_stocks = [ticker + \".SA\" for ticker in backtesting_result[\"Ticker\"]]\n",
    "\n",
    "# tickers = [ \n",
    "#     \"PETR4.SA\", \"VALE3.SA\", \"ITUB4.SA\", \"BBDC4.SA\", \"MGLU3.SA\", \"ABEV3.SA\", \"BBAS3.SA\", \"B3SA3.SA\",\n",
    "#     \"JBSS3.SA\", \"USIM5.SA\", \"WEGE3.SA\", \"SANB11.SA\", \"SUZB3.SA\", \"BRKM5.SA\", \"ELET3.SA\",\n",
    "#     \"GGBR4.SA\", \"CEAB3.SA\", \"CSNA3.SA\", \"ITSA4.SA\", \"RDOR3.SA\", \"BEEF3.SA\", \"LREN3.SA\",\n",
    "#     \"MULT3.SA\", \"HAPV3.SA\", \"EQTL3.SA\", \"TAEE11.SA\", \"EGIE3.SA\", \"KLBN11.SA\", \"TIMS3.SA\", \"BRFS3.SA\",\n",
    "#     \"RAIL3.SA\", \"NTCO3.SA\", \"IGTI11.SA\", \"MRFG3.SA\", \"UGPA3.SA\", \"LIGT3.SA\", \"ARZZ3.SA\", \"CCRO3.SA\",\n",
    "#     \"FLRY3.SA\", \"LWSA3.SA\", \"CYRE3.SA\", \"SOJA3.SA\", \"ENEV3.SA\", \"CPFE3.SA\", \"ALPA4.SA\", \"AESB3.SA\",\n",
    "#     \"VIVA3.SA\", \"TOTS3.SA\", \"RADL3.SA\", \"RENT3.SA\", \"AALR3.SA\", \"IRBR3.SA\", \"GOLL4.SA\",\n",
    "#     \"EZTC3.SA\", \"COGN3.SA\", \"POSI3.SA\", \"QUAL3.SA\", \"TEND3.SA\", \"JHSF3.SA\",\n",
    "#     \"TUPY3.SA\", \"SAPR11.SA\", \"CMIG4.SA\", \"SIMH3.SA\", \"BRIT3.SA\", \"PETZ3.SA\",\n",
    "#     \"BMOB3.SA\", \"BPAN4.SA\", \"ENJU3.SA\", \"MOVI3.SA\", \"TGMA3.SA\", \"BBSE3.SA\", \"MRVE3.SA\",\n",
    "#     \"EMBR3.SA\", \"CSAN3.SA\", \"CIEL3.SA\",\n",
    "#     \"NEOE3.SA\", \"ARZZ3.SA\", \"CVCB3.SA\", \"SBSP3.SA\", \"POMO4.SA\", \"PRIO3.SA\",\n",
    "#     \"PSSA3.SA\", \"ECOR3.SA\", \"LOGG3.SA\", \"CXSE3.SA\", \"YDUQ3.SA\", \"PCAR3.SA\", \"AMER3.SA\", \n",
    "#     \"HYPE3.SA\", \"GOAU4.SA\", \"ENGI11.SA\", \"CRFB3.SA\", \"BRAP4.SA\", \"BPAC11.SA\", \"AZUL4.SA\"\n",
    "# ]\n",
    "\n",
    "# Download data using yfinance\n",
    "data = yf.download(selected_stocks, start=i_date, end=f_date, interval=timeframe)"
   ]
  },
  {
   "cell_type": "code",
   "execution_count": 8,
   "metadata": {},
   "outputs": [],
   "source": [
    "close = data[\"Adj Close\"].iloc[-1]\n",
    "var = (data['Close'].iloc[-1] - data['Close'].iloc[-2]) / data['Close'].iloc[-2] * 100\n",
    "\n",
    "# Wilder method for RSI\n",
    "# This calculation was made to match TradingView's RSI\n",
    "def calculate_rsi(data, window):\n",
    "    delta = data.diff()\n",
    "    gain = delta.where(delta > 0, 0)\n",
    "    loss = -delta.where(delta < 0, 0)\n",
    "\n",
    "    avg_gain = gain.ewm(alpha=1/window, min_periods=window).mean()\n",
    "    avg_loss = loss.ewm(alpha=1/window, min_periods=window).mean()\n",
    "\n",
    "    rs = avg_gain / avg_loss\n",
    "    rsi = 100 - (100 / (1 + rs))\n",
    "    return rsi\n",
    "\n",
    "rsi = calculate_rsi(data['Close'], period).iloc[-1]\n",
    "# rsi = vbt.RSI.run(data[\"Adj Close\"], window=2).rsi.iloc[-1].loc[(2)]\n",
    "\n",
    "df = pd.DataFrame({\n",
    "    'Close': close,\n",
    "    'Var': var,\n",
    "    'RSI': rsi,\n",
    "}).reset_index(drop=False)\n",
    "\n",
    "df[\"Ticker\"] = df[\"Ticker\"].str.replace(\".SA\", \"\") # Remove \".SA\" suffix"
   ]
  },
  {
   "cell_type": "code",
   "execution_count": 9,
   "metadata": {},
   "outputs": [],
   "source": [
    "# Filtering based on oversold condition\n",
    "oversold_df = df[df[\"RSI\"] <= oversold]\n",
    "# Merging to get the previous calculated columns\n",
    "oversold_df = oversold_df.merge(backtesting_result, how=\"left\", on=\"Ticker\") \n",
    "oversold_df.drop([\"Total Candles Scaled\", \"Greatness Factor Scaled\"], axis=\"columns\", inplace=True)\n",
    "oversold_df.sort_values(by=\"Greatness Factor\", ascending=False, inplace=True)\n",
    "oversold_df.reset_index(inplace=True, drop=True)"
   ]
  },
  {
   "cell_type": "code",
   "execution_count": 10,
   "metadata": {},
   "outputs": [
    {
     "data": {
      "application/vnd.plotly.v1+json": {
       "config": {
        "plotlyServerURL": "https://plot.ly"
       },
       "data": [
        {
         "hovertemplate": "Greatness Factor=%{x}<br>RSI=%{y}<br>Ticker=%{text}<br>Var=%{marker.color}<extra></extra>",
         "legendgroup": "",
         "marker": {
          "color": [
           -1.5972656912604375,
           -1.4780541729066798,
           -1.1299424374029994,
           -0.9174302896359119,
           -0.8593004701890743,
           -2.702705024773061,
           -1.9130458002505097,
           -1.6523895669664963,
           -1.7373887486187174,
           -1.223495672138911,
           -0.34254743718381087,
           -2.286336728939814,
           -0.5118877332518229,
           -2.7386497269827377,
           -2.171052156888211,
           -0.6039662976931779,
           -1.734099712662877,
           -0.35087853147272474,
           -0.9756088483765962,
           -0.7921947713308645,
           -1.003012826393113,
           -1.1015082720022555,
           -1.6913798536078983,
           -2.508956505956021,
           -6.020064414800235,
           -1.3078734135154835,
           -1.2567355386723056,
           -1.71634675357882,
           -0.11614667725172549,
           -2.3650186981447567,
           -1.5435917500365834,
           -1.0173700381768267,
           -1.5885494148416182,
           -2.564102564102564,
           -0.13817241614221717,
           -0.9868411765204126,
           -2.5415375057845058,
           -1.0852666185147373,
           -1.9696939630101509,
           0.08040357791321381,
           -2.482756252946525,
           -0.5394465550749814,
           -1.2747897070443504,
           -3.061227592911475,
           -0.9740276495374782,
           -3.4059944796030637,
           2.5862147812329632,
           -1.561632358504094,
           -2.999997138977051
          ],
          "coloraxis": "coloraxis",
          "symbol": "circle"
         },
         "mode": "markers+text",
         "name": "",
         "orientation": "v",
         "showlegend": false,
         "text": [
          "TRPL3",
          "VIVT3",
          "PTNT4",
          "TAEE11",
          "CPLE6",
          "ENGI3",
          "MNPR3",
          "BPAC3",
          "EQTL3",
          "CCRO3",
          "EGIE3",
          "SLCE3",
          "ITUB3",
          "ENEV3",
          "VULC3",
          "ABEV3",
          "CPFE3",
          "TOTS3",
          "ATOM3",
          "TIMS3",
          "ITSA4",
          "ENGI11",
          "PRIO3",
          "MGEL4",
          "HYPE3",
          "WEGE3",
          "RENT3",
          "B3SA3",
          "RADL3",
          "VBBR3",
          "UGPA3",
          "VALE3",
          "ARZZ3",
          "ALPA3",
          "JBSS3",
          "AURE3",
          "CRFB3",
          "EZTC3",
          "BRAP4",
          "SBSP3",
          "FLRY3",
          "NTCO3",
          "ECOR3",
          "INEP4",
          "POSI3",
          "DXCO3",
          "RCSL3",
          "ELET3",
          "INEP3"
         ],
         "textposition": "top center",
         "type": "scatter",
         "x": [
          288.66966,
          214.37598000000003,
          198.94783999999999,
          196.67759999999998,
          179.77251,
          177.9489,
          170.07091,
          141.24095999999997,
          137.81677,
          130.15144999999998,
          124.09337,
          123.71373000000001,
          123.29720000000002,
          121.43704000000001,
          119.2272,
          116.98584,
          114.01075,
          112.77481,
          110.28081,
          106.96293,
          104.56555999999999,
          104.052,
          102.3155,
          102.10905,
          102.09224,
          100.68079,
          99.18968,
          99.15272,
          98.70671999999999,
          97.92339999999999,
          95.50220999999999,
          93.81096,
          92.89914999999999,
          92.39928,
          91.00182000000001,
          90.23238,
          89.84094,
          89.69094,
          87.4836,
          86.58239999999999,
          86.53008,
          86.39055,
          85.55758,
          84.94116,
          79.68191999999999,
          76.87051000000001,
          75.79816,
          75.38714999999999,
          73.68867
         ],
         "xaxis": "x",
         "y": [
          10.770214636294824,
          3.3762472279186255,
          18.619840366539634,
          9.065575467415997,
          7.516776907345431,
          21.067846096989783,
          0.46705940688050873,
          17.938508480312322,
          14.109241371505803,
          15.61573838828069,
          17.00616394340122,
          8.436088861988594,
          0.22699962033676968,
          7.7024557049590925,
          3.77136271208326,
          0.16034405688920117,
          5.6715178931709005,
          5.443240651337931,
          8.553917074597805,
          11.989012326337402,
          2.255330998264796,
          21.324050756402798,
          5.946697322424853,
          14.489465607218946,
          3.4304671445353847,
          0.6750658076622642,
          0.28044561856407313,
          3.12620922672221,
          1.334997393101574,
          8.261427796759378,
          7.3214350266108426,
          4.424156871328961,
          7.82838202022991,
          4.696960046299793,
          10.201850911859978,
          19.860363466814576,
          6.476502798535307,
          4.662525789325542,
          6.368576723307953,
          21.124465451748776,
          23.5711555246385,
          0.21621229788964058,
          12.014758446541379,
          18.78961043649963,
          23.562998226938078,
          2.2547493352083308,
          14.084109139916691,
          2.364554270442497,
          17.108443086764538
         ],
         "yaxis": "y"
        }
       ],
       "layout": {
        "coloraxis": {
         "colorbar": {
          "title": {
           "text": "Var"
          }
         },
         "colorscale": [
          [
           0,
           "#0d0887"
          ],
          [
           0.1111111111111111,
           "#46039f"
          ],
          [
           0.2222222222222222,
           "#7201a8"
          ],
          [
           0.3333333333333333,
           "#9c179e"
          ],
          [
           0.4444444444444444,
           "#bd3786"
          ],
          [
           0.5555555555555556,
           "#d8576b"
          ],
          [
           0.6666666666666666,
           "#ed7953"
          ],
          [
           0.7777777777777778,
           "#fb9f3a"
          ],
          [
           0.8888888888888888,
           "#fdca26"
          ],
          [
           1,
           "#f0f921"
          ]
         ]
        },
        "height": 600,
        "legend": {
         "tracegroupgap": 0
        },
        "margin": {
         "t": 60
        },
        "template": {
         "data": {
          "bar": [
           {
            "error_x": {
             "color": "#2a3f5f"
            },
            "error_y": {
             "color": "#2a3f5f"
            },
            "marker": {
             "line": {
              "color": "#E5ECF6",
              "width": 0.5
             },
             "pattern": {
              "fillmode": "overlay",
              "size": 10,
              "solidity": 0.2
             }
            },
            "type": "bar"
           }
          ],
          "barpolar": [
           {
            "marker": {
             "line": {
              "color": "#E5ECF6",
              "width": 0.5
             },
             "pattern": {
              "fillmode": "overlay",
              "size": 10,
              "solidity": 0.2
             }
            },
            "type": "barpolar"
           }
          ],
          "carpet": [
           {
            "aaxis": {
             "endlinecolor": "#2a3f5f",
             "gridcolor": "white",
             "linecolor": "white",
             "minorgridcolor": "white",
             "startlinecolor": "#2a3f5f"
            },
            "baxis": {
             "endlinecolor": "#2a3f5f",
             "gridcolor": "white",
             "linecolor": "white",
             "minorgridcolor": "white",
             "startlinecolor": "#2a3f5f"
            },
            "type": "carpet"
           }
          ],
          "choropleth": [
           {
            "colorbar": {
             "outlinewidth": 0,
             "ticks": ""
            },
            "type": "choropleth"
           }
          ],
          "contour": [
           {
            "colorbar": {
             "outlinewidth": 0,
             "ticks": ""
            },
            "colorscale": [
             [
              0,
              "#0d0887"
             ],
             [
              0.1111111111111111,
              "#46039f"
             ],
             [
              0.2222222222222222,
              "#7201a8"
             ],
             [
              0.3333333333333333,
              "#9c179e"
             ],
             [
              0.4444444444444444,
              "#bd3786"
             ],
             [
              0.5555555555555556,
              "#d8576b"
             ],
             [
              0.6666666666666666,
              "#ed7953"
             ],
             [
              0.7777777777777778,
              "#fb9f3a"
             ],
             [
              0.8888888888888888,
              "#fdca26"
             ],
             [
              1,
              "#f0f921"
             ]
            ],
            "type": "contour"
           }
          ],
          "contourcarpet": [
           {
            "colorbar": {
             "outlinewidth": 0,
             "ticks": ""
            },
            "type": "contourcarpet"
           }
          ],
          "heatmap": [
           {
            "colorbar": {
             "outlinewidth": 0,
             "ticks": ""
            },
            "colorscale": [
             [
              0,
              "#0d0887"
             ],
             [
              0.1111111111111111,
              "#46039f"
             ],
             [
              0.2222222222222222,
              "#7201a8"
             ],
             [
              0.3333333333333333,
              "#9c179e"
             ],
             [
              0.4444444444444444,
              "#bd3786"
             ],
             [
              0.5555555555555556,
              "#d8576b"
             ],
             [
              0.6666666666666666,
              "#ed7953"
             ],
             [
              0.7777777777777778,
              "#fb9f3a"
             ],
             [
              0.8888888888888888,
              "#fdca26"
             ],
             [
              1,
              "#f0f921"
             ]
            ],
            "type": "heatmap"
           }
          ],
          "heatmapgl": [
           {
            "colorbar": {
             "outlinewidth": 0,
             "ticks": ""
            },
            "colorscale": [
             [
              0,
              "#0d0887"
             ],
             [
              0.1111111111111111,
              "#46039f"
             ],
             [
              0.2222222222222222,
              "#7201a8"
             ],
             [
              0.3333333333333333,
              "#9c179e"
             ],
             [
              0.4444444444444444,
              "#bd3786"
             ],
             [
              0.5555555555555556,
              "#d8576b"
             ],
             [
              0.6666666666666666,
              "#ed7953"
             ],
             [
              0.7777777777777778,
              "#fb9f3a"
             ],
             [
              0.8888888888888888,
              "#fdca26"
             ],
             [
              1,
              "#f0f921"
             ]
            ],
            "type": "heatmapgl"
           }
          ],
          "histogram": [
           {
            "marker": {
             "pattern": {
              "fillmode": "overlay",
              "size": 10,
              "solidity": 0.2
             }
            },
            "type": "histogram"
           }
          ],
          "histogram2d": [
           {
            "colorbar": {
             "outlinewidth": 0,
             "ticks": ""
            },
            "colorscale": [
             [
              0,
              "#0d0887"
             ],
             [
              0.1111111111111111,
              "#46039f"
             ],
             [
              0.2222222222222222,
              "#7201a8"
             ],
             [
              0.3333333333333333,
              "#9c179e"
             ],
             [
              0.4444444444444444,
              "#bd3786"
             ],
             [
              0.5555555555555556,
              "#d8576b"
             ],
             [
              0.6666666666666666,
              "#ed7953"
             ],
             [
              0.7777777777777778,
              "#fb9f3a"
             ],
             [
              0.8888888888888888,
              "#fdca26"
             ],
             [
              1,
              "#f0f921"
             ]
            ],
            "type": "histogram2d"
           }
          ],
          "histogram2dcontour": [
           {
            "colorbar": {
             "outlinewidth": 0,
             "ticks": ""
            },
            "colorscale": [
             [
              0,
              "#0d0887"
             ],
             [
              0.1111111111111111,
              "#46039f"
             ],
             [
              0.2222222222222222,
              "#7201a8"
             ],
             [
              0.3333333333333333,
              "#9c179e"
             ],
             [
              0.4444444444444444,
              "#bd3786"
             ],
             [
              0.5555555555555556,
              "#d8576b"
             ],
             [
              0.6666666666666666,
              "#ed7953"
             ],
             [
              0.7777777777777778,
              "#fb9f3a"
             ],
             [
              0.8888888888888888,
              "#fdca26"
             ],
             [
              1,
              "#f0f921"
             ]
            ],
            "type": "histogram2dcontour"
           }
          ],
          "mesh3d": [
           {
            "colorbar": {
             "outlinewidth": 0,
             "ticks": ""
            },
            "type": "mesh3d"
           }
          ],
          "parcoords": [
           {
            "line": {
             "colorbar": {
              "outlinewidth": 0,
              "ticks": ""
             }
            },
            "type": "parcoords"
           }
          ],
          "pie": [
           {
            "automargin": true,
            "type": "pie"
           }
          ],
          "scatter": [
           {
            "fillpattern": {
             "fillmode": "overlay",
             "size": 10,
             "solidity": 0.2
            },
            "type": "scatter"
           }
          ],
          "scatter3d": [
           {
            "line": {
             "colorbar": {
              "outlinewidth": 0,
              "ticks": ""
             }
            },
            "marker": {
             "colorbar": {
              "outlinewidth": 0,
              "ticks": ""
             }
            },
            "type": "scatter3d"
           }
          ],
          "scattercarpet": [
           {
            "marker": {
             "colorbar": {
              "outlinewidth": 0,
              "ticks": ""
             }
            },
            "type": "scattercarpet"
           }
          ],
          "scattergeo": [
           {
            "marker": {
             "colorbar": {
              "outlinewidth": 0,
              "ticks": ""
             }
            },
            "type": "scattergeo"
           }
          ],
          "scattergl": [
           {
            "marker": {
             "colorbar": {
              "outlinewidth": 0,
              "ticks": ""
             }
            },
            "type": "scattergl"
           }
          ],
          "scattermapbox": [
           {
            "marker": {
             "colorbar": {
              "outlinewidth": 0,
              "ticks": ""
             }
            },
            "type": "scattermapbox"
           }
          ],
          "scatterpolar": [
           {
            "marker": {
             "colorbar": {
              "outlinewidth": 0,
              "ticks": ""
             }
            },
            "type": "scatterpolar"
           }
          ],
          "scatterpolargl": [
           {
            "marker": {
             "colorbar": {
              "outlinewidth": 0,
              "ticks": ""
             }
            },
            "type": "scatterpolargl"
           }
          ],
          "scatterternary": [
           {
            "marker": {
             "colorbar": {
              "outlinewidth": 0,
              "ticks": ""
             }
            },
            "type": "scatterternary"
           }
          ],
          "surface": [
           {
            "colorbar": {
             "outlinewidth": 0,
             "ticks": ""
            },
            "colorscale": [
             [
              0,
              "#0d0887"
             ],
             [
              0.1111111111111111,
              "#46039f"
             ],
             [
              0.2222222222222222,
              "#7201a8"
             ],
             [
              0.3333333333333333,
              "#9c179e"
             ],
             [
              0.4444444444444444,
              "#bd3786"
             ],
             [
              0.5555555555555556,
              "#d8576b"
             ],
             [
              0.6666666666666666,
              "#ed7953"
             ],
             [
              0.7777777777777778,
              "#fb9f3a"
             ],
             [
              0.8888888888888888,
              "#fdca26"
             ],
             [
              1,
              "#f0f921"
             ]
            ],
            "type": "surface"
           }
          ],
          "table": [
           {
            "cells": {
             "fill": {
              "color": "#EBF0F8"
             },
             "line": {
              "color": "white"
             }
            },
            "header": {
             "fill": {
              "color": "#C8D4E3"
             },
             "line": {
              "color": "white"
             }
            },
            "type": "table"
           }
          ]
         },
         "layout": {
          "annotationdefaults": {
           "arrowcolor": "#2a3f5f",
           "arrowhead": 0,
           "arrowwidth": 1
          },
          "autotypenumbers": "strict",
          "coloraxis": {
           "colorbar": {
            "outlinewidth": 0,
            "ticks": ""
           }
          },
          "colorscale": {
           "diverging": [
            [
             0,
             "#8e0152"
            ],
            [
             0.1,
             "#c51b7d"
            ],
            [
             0.2,
             "#de77ae"
            ],
            [
             0.3,
             "#f1b6da"
            ],
            [
             0.4,
             "#fde0ef"
            ],
            [
             0.5,
             "#f7f7f7"
            ],
            [
             0.6,
             "#e6f5d0"
            ],
            [
             0.7,
             "#b8e186"
            ],
            [
             0.8,
             "#7fbc41"
            ],
            [
             0.9,
             "#4d9221"
            ],
            [
             1,
             "#276419"
            ]
           ],
           "sequential": [
            [
             0,
             "#0d0887"
            ],
            [
             0.1111111111111111,
             "#46039f"
            ],
            [
             0.2222222222222222,
             "#7201a8"
            ],
            [
             0.3333333333333333,
             "#9c179e"
            ],
            [
             0.4444444444444444,
             "#bd3786"
            ],
            [
             0.5555555555555556,
             "#d8576b"
            ],
            [
             0.6666666666666666,
             "#ed7953"
            ],
            [
             0.7777777777777778,
             "#fb9f3a"
            ],
            [
             0.8888888888888888,
             "#fdca26"
            ],
            [
             1,
             "#f0f921"
            ]
           ],
           "sequentialminus": [
            [
             0,
             "#0d0887"
            ],
            [
             0.1111111111111111,
             "#46039f"
            ],
            [
             0.2222222222222222,
             "#7201a8"
            ],
            [
             0.3333333333333333,
             "#9c179e"
            ],
            [
             0.4444444444444444,
             "#bd3786"
            ],
            [
             0.5555555555555556,
             "#d8576b"
            ],
            [
             0.6666666666666666,
             "#ed7953"
            ],
            [
             0.7777777777777778,
             "#fb9f3a"
            ],
            [
             0.8888888888888888,
             "#fdca26"
            ],
            [
             1,
             "#f0f921"
            ]
           ]
          },
          "colorway": [
           "#636efa",
           "#EF553B",
           "#00cc96",
           "#ab63fa",
           "#FFA15A",
           "#19d3f3",
           "#FF6692",
           "#B6E880",
           "#FF97FF",
           "#FECB52"
          ],
          "font": {
           "color": "#2a3f5f"
          },
          "geo": {
           "bgcolor": "white",
           "lakecolor": "white",
           "landcolor": "#E5ECF6",
           "showlakes": true,
           "showland": true,
           "subunitcolor": "white"
          },
          "hoverlabel": {
           "align": "left"
          },
          "hovermode": "closest",
          "mapbox": {
           "style": "light"
          },
          "paper_bgcolor": "white",
          "plot_bgcolor": "#E5ECF6",
          "polar": {
           "angularaxis": {
            "gridcolor": "white",
            "linecolor": "white",
            "ticks": ""
           },
           "bgcolor": "#E5ECF6",
           "radialaxis": {
            "gridcolor": "white",
            "linecolor": "white",
            "ticks": ""
           }
          },
          "scene": {
           "xaxis": {
            "backgroundcolor": "#E5ECF6",
            "gridcolor": "white",
            "gridwidth": 2,
            "linecolor": "white",
            "showbackground": true,
            "ticks": "",
            "zerolinecolor": "white"
           },
           "yaxis": {
            "backgroundcolor": "#E5ECF6",
            "gridcolor": "white",
            "gridwidth": 2,
            "linecolor": "white",
            "showbackground": true,
            "ticks": "",
            "zerolinecolor": "white"
           },
           "zaxis": {
            "backgroundcolor": "#E5ECF6",
            "gridcolor": "white",
            "gridwidth": 2,
            "linecolor": "white",
            "showbackground": true,
            "ticks": "",
            "zerolinecolor": "white"
           }
          },
          "shapedefaults": {
           "line": {
            "color": "#2a3f5f"
           }
          },
          "ternary": {
           "aaxis": {
            "gridcolor": "white",
            "linecolor": "white",
            "ticks": ""
           },
           "baxis": {
            "gridcolor": "white",
            "linecolor": "white",
            "ticks": ""
           },
           "bgcolor": "#E5ECF6",
           "caxis": {
            "gridcolor": "white",
            "linecolor": "white",
            "ticks": ""
           }
          },
          "title": {
           "x": 0.05
          },
          "xaxis": {
           "automargin": true,
           "gridcolor": "white",
           "linecolor": "white",
           "ticks": "",
           "title": {
            "standoff": 15
           },
           "zerolinecolor": "white",
           "zerolinewidth": 2
          },
          "yaxis": {
           "automargin": true,
           "gridcolor": "white",
           "linecolor": "white",
           "ticks": "",
           "title": {
            "standoff": 15
           },
           "zerolinecolor": "white",
           "zerolinewidth": 2
          }
         }
        },
        "title": {
         "text": "RSI of Different Tickers"
        },
        "xaxis": {
         "anchor": "y",
         "domain": [
          0,
          1
         ],
         "range": [
          33.68867,
          328.66966
         ],
         "title": {
          "text": "Greatness Factor"
         },
         "zeroline": true,
         "zerolinecolor": "LightGrey",
         "zerolinewidth": 2
        },
        "yaxis": {
         "anchor": "x",
         "domain": [
          0,
          1
         ],
         "range": [
          -4.839655943110799,
          33.5711555246385
         ],
         "title": {
          "text": "RSI"
         },
         "zeroline": true,
         "zerolinecolor": "LightGrey",
         "zerolinewidth": 2
        }
       }
      }
     },
     "metadata": {},
     "output_type": "display_data"
    }
   ],
   "source": [
    "# Create the scatter plot\n",
    "fig = px.scatter(oversold_df, x='Greatness Factor', y='RSI', text='Ticker', color=\"Var\", size_max=30)\n",
    "\n",
    "# Update layout to improve appearance\n",
    "fig.update_traces(textposition='top center')\n",
    "fig.update_layout(title='RSI of Different Tickers',\n",
    "                  yaxis= dict(title='RSI', range=[min(oversold_df['RSI']) - 5, max(oversold_df['RSI']) + 10], zeroline=True, zerolinewidth=2, zerolinecolor='LightGrey'),\n",
    "                  xaxis=dict(title='Greatness Factor', range=[min(oversold_df[\"Greatness Factor\"] - 40), max(oversold_df['Greatness Factor']) + 40], zeroline=True, zerolinewidth=2, zerolinecolor='LightGrey'),\n",
    "                  height=600)\n",
    "\n",
    "# Show plot\n",
    "fig.show()"
   ]
  },
  {
   "cell_type": "code",
   "execution_count": 11,
   "metadata": {},
   "outputs": [
    {
     "data": {
      "text/html": [
       "<div>\n",
       "<style scoped>\n",
       "    .dataframe tbody tr th:only-of-type {\n",
       "        vertical-align: middle;\n",
       "    }\n",
       "\n",
       "    .dataframe tbody tr th {\n",
       "        vertical-align: top;\n",
       "    }\n",
       "\n",
       "    .dataframe thead th {\n",
       "        text-align: right;\n",
       "    }\n",
       "</style>\n",
       "<table border=\"1\" class=\"dataframe\">\n",
       "  <thead>\n",
       "    <tr style=\"text-align: right;\">\n",
       "      <th></th>\n",
       "      <th>Ticker</th>\n",
       "      <th>Close</th>\n",
       "      <th>Var</th>\n",
       "      <th>RSI</th>\n",
       "      <th>index</th>\n",
       "      <th>Total Trades</th>\n",
       "      <th>Profitable %</th>\n",
       "      <th>Gain Factor</th>\n",
       "      <th>Max Drawdown</th>\n",
       "      <th>Mean Transaction</th>\n",
       "      <th>Total Candles</th>\n",
       "      <th>Greatness Factor</th>\n",
       "    </tr>\n",
       "  </thead>\n",
       "  <tbody>\n",
       "    <tr>\n",
       "      <th>0</th>\n",
       "      <td>TRPL3</td>\n",
       "      <td>34.500000</td>\n",
       "      <td>-1.597266</td>\n",
       "      <td>10.770215</td>\n",
       "      <td>52</td>\n",
       "      <td>193</td>\n",
       "      <td>83.94</td>\n",
       "      <td>3.439</td>\n",
       "      <td>18.58</td>\n",
       "      <td>1.69</td>\n",
       "      <td>4</td>\n",
       "      <td>288.66966</td>\n",
       "    </tr>\n",
       "    <tr>\n",
       "      <th>1</th>\n",
       "      <td>VIVT3</td>\n",
       "      <td>44.660000</td>\n",
       "      <td>-1.478054</td>\n",
       "      <td>3.376247</td>\n",
       "      <td>2</td>\n",
       "      <td>248</td>\n",
       "      <td>77.42</td>\n",
       "      <td>2.769</td>\n",
       "      <td>13.94</td>\n",
       "      <td>0.99</td>\n",
       "      <td>4</td>\n",
       "      <td>214.37598</td>\n",
       "    </tr>\n",
       "    <tr>\n",
       "      <th>2</th>\n",
       "      <td>PTNT4</td>\n",
       "      <td>7.000000</td>\n",
       "      <td>-1.129942</td>\n",
       "      <td>18.619840</td>\n",
       "      <td>48</td>\n",
       "      <td>219</td>\n",
       "      <td>78.08</td>\n",
       "      <td>2.548</td>\n",
       "      <td>42.63</td>\n",
       "      <td>1.87</td>\n",
       "      <td>4</td>\n",
       "      <td>198.94784</td>\n",
       "    </tr>\n",
       "    <tr>\n",
       "      <th>3</th>\n",
       "      <td>TAEE11</td>\n",
       "      <td>34.560001</td>\n",
       "      <td>-0.917430</td>\n",
       "      <td>9.065575</td>\n",
       "      <td>1</td>\n",
       "      <td>220</td>\n",
       "      <td>76.35</td>\n",
       "      <td>2.576</td>\n",
       "      <td>14.87</td>\n",
       "      <td>0.82</td>\n",
       "      <td>5</td>\n",
       "      <td>196.67760</td>\n",
       "    </tr>\n",
       "    <tr>\n",
       "      <th>4</th>\n",
       "      <td>CPLE6</td>\n",
       "      <td>9.230000</td>\n",
       "      <td>-0.859300</td>\n",
       "      <td>7.516777</td>\n",
       "      <td>0</td>\n",
       "      <td>237</td>\n",
       "      <td>71.31</td>\n",
       "      <td>2.521</td>\n",
       "      <td>38.86</td>\n",
       "      <td>1.09</td>\n",
       "      <td>5</td>\n",
       "      <td>179.77251</td>\n",
       "    </tr>\n",
       "    <tr>\n",
       "      <th>5</th>\n",
       "      <td>ENGI3</td>\n",
       "      <td>14.040000</td>\n",
       "      <td>-2.702705</td>\n",
       "      <td>21.067846</td>\n",
       "      <td>41</td>\n",
       "      <td>194</td>\n",
       "      <td>73.23</td>\n",
       "      <td>2.430</td>\n",
       "      <td>24.43</td>\n",
       "      <td>1.66</td>\n",
       "      <td>4</td>\n",
       "      <td>177.94890</td>\n",
       "    </tr>\n",
       "    <tr>\n",
       "      <th>6</th>\n",
       "      <td>MNPR3</td>\n",
       "      <td>11.280000</td>\n",
       "      <td>-1.913046</td>\n",
       "      <td>0.467059</td>\n",
       "      <td>37</td>\n",
       "      <td>239</td>\n",
       "      <td>76.99</td>\n",
       "      <td>2.209</td>\n",
       "      <td>47.55</td>\n",
       "      <td>4.38</td>\n",
       "      <td>4</td>\n",
       "      <td>170.07091</td>\n",
       "    </tr>\n",
       "    <tr>\n",
       "      <th>7</th>\n",
       "      <td>BPAC3</td>\n",
       "      <td>16.070000</td>\n",
       "      <td>-1.652390</td>\n",
       "      <td>17.938508</td>\n",
       "      <td>8</td>\n",
       "      <td>144</td>\n",
       "      <td>69.44</td>\n",
       "      <td>2.034</td>\n",
       "      <td>26.99</td>\n",
       "      <td>1.22</td>\n",
       "      <td>4</td>\n",
       "      <td>141.24096</td>\n",
       "    </tr>\n",
       "    <tr>\n",
       "      <th>8</th>\n",
       "      <td>EQTL3</td>\n",
       "      <td>29.410000</td>\n",
       "      <td>-1.737389</td>\n",
       "      <td>14.109241</td>\n",
       "      <td>11</td>\n",
       "      <td>235</td>\n",
       "      <td>73.19</td>\n",
       "      <td>1.883</td>\n",
       "      <td>36.45</td>\n",
       "      <td>0.80</td>\n",
       "      <td>5</td>\n",
       "      <td>137.81677</td>\n",
       "    </tr>\n",
       "    <tr>\n",
       "      <th>9</th>\n",
       "      <td>CCRO3</td>\n",
       "      <td>12.110000</td>\n",
       "      <td>-1.223496</td>\n",
       "      <td>15.615738</td>\n",
       "      <td>6</td>\n",
       "      <td>247</td>\n",
       "      <td>70.85</td>\n",
       "      <td>1.837</td>\n",
       "      <td>27.18</td>\n",
       "      <td>0.86</td>\n",
       "      <td>5</td>\n",
       "      <td>130.15145</td>\n",
       "    </tr>\n",
       "    <tr>\n",
       "      <th>10</th>\n",
       "      <td>EGIE3</td>\n",
       "      <td>43.639999</td>\n",
       "      <td>-0.342547</td>\n",
       "      <td>17.006164</td>\n",
       "      <td>7</td>\n",
       "      <td>230</td>\n",
       "      <td>70.87</td>\n",
       "      <td>1.751</td>\n",
       "      <td>14.22</td>\n",
       "      <td>0.62</td>\n",
       "      <td>5</td>\n",
       "      <td>124.09337</td>\n",
       "    </tr>\n",
       "    <tr>\n",
       "      <th>11</th>\n",
       "      <td>SLCE3</td>\n",
       "      <td>17.950001</td>\n",
       "      <td>-2.286337</td>\n",
       "      <td>8.436089</td>\n",
       "      <td>4</td>\n",
       "      <td>220</td>\n",
       "      <td>72.73</td>\n",
       "      <td>1.701</td>\n",
       "      <td>30.12</td>\n",
       "      <td>0.91</td>\n",
       "      <td>5</td>\n",
       "      <td>123.71373</td>\n",
       "    </tr>\n",
       "    <tr>\n",
       "      <th>12</th>\n",
       "      <td>ITUB3</td>\n",
       "      <td>27.209999</td>\n",
       "      <td>-0.511888</td>\n",
       "      <td>0.227000</td>\n",
       "      <td>18</td>\n",
       "      <td>250</td>\n",
       "      <td>72.40</td>\n",
       "      <td>1.703</td>\n",
       "      <td>25.29</td>\n",
       "      <td>0.56</td>\n",
       "      <td>5</td>\n",
       "      <td>123.29720</td>\n",
       "    </tr>\n",
       "    <tr>\n",
       "      <th>13</th>\n",
       "      <td>ENEV3</td>\n",
       "      <td>12.430000</td>\n",
       "      <td>-2.738650</td>\n",
       "      <td>7.702456</td>\n",
       "      <td>36</td>\n",
       "      <td>227</td>\n",
       "      <td>70.48</td>\n",
       "      <td>1.723</td>\n",
       "      <td>42.14</td>\n",
       "      <td>1.31</td>\n",
       "      <td>4</td>\n",
       "      <td>121.43704</td>\n",
       "    </tr>\n",
       "    <tr>\n",
       "      <th>14</th>\n",
       "      <td>VULC3</td>\n",
       "      <td>14.870000</td>\n",
       "      <td>-2.171052</td>\n",
       "      <td>3.771363</td>\n",
       "      <td>56</td>\n",
       "      <td>226</td>\n",
       "      <td>70.80</td>\n",
       "      <td>1.684</td>\n",
       "      <td>43.90</td>\n",
       "      <td>1.60</td>\n",
       "      <td>5</td>\n",
       "      <td>119.22720</td>\n",
       "    </tr>\n",
       "    <tr>\n",
       "      <th>15</th>\n",
       "      <td>ABEV3</td>\n",
       "      <td>11.520000</td>\n",
       "      <td>-0.603966</td>\n",
       "      <td>0.160344</td>\n",
       "      <td>62</td>\n",
       "      <td>240</td>\n",
       "      <td>72.08</td>\n",
       "      <td>1.623</td>\n",
       "      <td>39.99</td>\n",
       "      <td>0.52</td>\n",
       "      <td>5</td>\n",
       "      <td>116.98584</td>\n",
       "    </tr>\n",
       "    <tr>\n",
       "      <th>16</th>\n",
       "      <td>CPFE3</td>\n",
       "      <td>34.000000</td>\n",
       "      <td>-1.734100</td>\n",
       "      <td>5.671518</td>\n",
       "      <td>32</td>\n",
       "      <td>223</td>\n",
       "      <td>71.75</td>\n",
       "      <td>1.589</td>\n",
       "      <td>43.96</td>\n",
       "      <td>0.54</td>\n",
       "      <td>4</td>\n",
       "      <td>114.01075</td>\n",
       "    </tr>\n",
       "    <tr>\n",
       "      <th>17</th>\n",
       "      <td>TOTS3</td>\n",
       "      <td>28.400000</td>\n",
       "      <td>-0.350879</td>\n",
       "      <td>5.443241</td>\n",
       "      <td>16</td>\n",
       "      <td>234</td>\n",
       "      <td>70.09</td>\n",
       "      <td>1.609</td>\n",
       "      <td>39.75</td>\n",
       "      <td>0.90</td>\n",
       "      <td>5</td>\n",
       "      <td>112.77481</td>\n",
       "    </tr>\n",
       "    <tr>\n",
       "      <th>18</th>\n",
       "      <td>ATOM3</td>\n",
       "      <td>2.030000</td>\n",
       "      <td>-0.975609</td>\n",
       "      <td>8.553917</td>\n",
       "      <td>40</td>\n",
       "      <td>215</td>\n",
       "      <td>68.37</td>\n",
       "      <td>1.613</td>\n",
       "      <td>60.84</td>\n",
       "      <td>0.93</td>\n",
       "      <td>5</td>\n",
       "      <td>110.28081</td>\n",
       "    </tr>\n",
       "    <tr>\n",
       "      <th>19</th>\n",
       "      <td>TIMS3</td>\n",
       "      <td>16.280001</td>\n",
       "      <td>-0.792195</td>\n",
       "      <td>11.989012</td>\n",
       "      <td>19</td>\n",
       "      <td>235</td>\n",
       "      <td>67.23</td>\n",
       "      <td>1.591</td>\n",
       "      <td>25.99</td>\n",
       "      <td>0.55</td>\n",
       "      <td>5</td>\n",
       "      <td>106.96293</td>\n",
       "    </tr>\n",
       "    <tr>\n",
       "      <th>20</th>\n",
       "      <td>ITSA4</td>\n",
       "      <td>9.870000</td>\n",
       "      <td>-1.003013</td>\n",
       "      <td>2.255331</td>\n",
       "      <td>13</td>\n",
       "      <td>234</td>\n",
       "      <td>70.94</td>\n",
       "      <td>1.474</td>\n",
       "      <td>31.41</td>\n",
       "      <td>0.54</td>\n",
       "      <td>5</td>\n",
       "      <td>104.56556</td>\n",
       "    </tr>\n",
       "    <tr>\n",
       "      <th>21</th>\n",
       "      <td>ENGI11</td>\n",
       "      <td>45.790001</td>\n",
       "      <td>-1.101508</td>\n",
       "      <td>21.324051</td>\n",
       "      <td>15</td>\n",
       "      <td>216</td>\n",
       "      <td>71.76</td>\n",
       "      <td>1.450</td>\n",
       "      <td>32.07</td>\n",
       "      <td>0.60</td>\n",
       "      <td>4</td>\n",
       "      <td>104.05200</td>\n",
       "    </tr>\n",
       "    <tr>\n",
       "      <th>22</th>\n",
       "      <td>PRIO3</td>\n",
       "      <td>42.430000</td>\n",
       "      <td>-1.691380</td>\n",
       "      <td>5.946697</td>\n",
       "      <td>35</td>\n",
       "      <td>223</td>\n",
       "      <td>71.75</td>\n",
       "      <td>1.426</td>\n",
       "      <td>72.00</td>\n",
       "      <td>1.15</td>\n",
       "      <td>5</td>\n",
       "      <td>102.31550</td>\n",
       "    </tr>\n",
       "    <tr>\n",
       "      <th>23</th>\n",
       "      <td>MGEL4</td>\n",
       "      <td>13.600000</td>\n",
       "      <td>-2.508957</td>\n",
       "      <td>14.489466</td>\n",
       "      <td>39</td>\n",
       "      <td>230</td>\n",
       "      <td>66.09</td>\n",
       "      <td>1.545</td>\n",
       "      <td>51.44</td>\n",
       "      <td>1.85</td>\n",
       "      <td>4</td>\n",
       "      <td>102.10905</td>\n",
       "    </tr>\n",
       "    <tr>\n",
       "      <th>24</th>\n",
       "      <td>HYPE3</td>\n",
       "      <td>28.100000</td>\n",
       "      <td>-6.020064</td>\n",
       "      <td>3.430467</td>\n",
       "      <td>67</td>\n",
       "      <td>224</td>\n",
       "      <td>69.64</td>\n",
       "      <td>1.466</td>\n",
       "      <td>28.37</td>\n",
       "      <td>0.48</td>\n",
       "      <td>5</td>\n",
       "      <td>102.09224</td>\n",
       "    </tr>\n",
       "    <tr>\n",
       "      <th>25</th>\n",
       "      <td>WEGE3</td>\n",
       "      <td>37.730000</td>\n",
       "      <td>-1.307873</td>\n",
       "      <td>0.675066</td>\n",
       "      <td>30</td>\n",
       "      <td>226</td>\n",
       "      <td>73.01</td>\n",
       "      <td>1.379</td>\n",
       "      <td>44.28</td>\n",
       "      <td>0.59</td>\n",
       "      <td>5</td>\n",
       "      <td>100.68079</td>\n",
       "    </tr>\n",
       "    <tr>\n",
       "      <th>26</th>\n",
       "      <td>RENT3</td>\n",
       "      <td>44.000000</td>\n",
       "      <td>-1.256736</td>\n",
       "      <td>0.280446</td>\n",
       "      <td>21</td>\n",
       "      <td>236</td>\n",
       "      <td>72.88</td>\n",
       "      <td>1.361</td>\n",
       "      <td>55.13</td>\n",
       "      <td>0.71</td>\n",
       "      <td>5</td>\n",
       "      <td>99.18968</td>\n",
       "    </tr>\n",
       "    <tr>\n",
       "      <th>27</th>\n",
       "      <td>B3SA3</td>\n",
       "      <td>10.880000</td>\n",
       "      <td>-1.716347</td>\n",
       "      <td>3.126209</td>\n",
       "      <td>14</td>\n",
       "      <td>233</td>\n",
       "      <td>68.24</td>\n",
       "      <td>1.453</td>\n",
       "      <td>36.20</td>\n",
       "      <td>0.79</td>\n",
       "      <td>5</td>\n",
       "      <td>99.15272</td>\n",
       "    </tr>\n",
       "    <tr>\n",
       "      <th>28</th>\n",
       "      <td>RADL3</td>\n",
       "      <td>25.799999</td>\n",
       "      <td>-0.116147</td>\n",
       "      <td>1.334997</td>\n",
       "      <td>64</td>\n",
       "      <td>220</td>\n",
       "      <td>70.91</td>\n",
       "      <td>1.392</td>\n",
       "      <td>36.03</td>\n",
       "      <td>0.56</td>\n",
       "      <td>5</td>\n",
       "      <td>98.70672</td>\n",
       "    </tr>\n",
       "    <tr>\n",
       "      <th>29</th>\n",
       "      <td>VBBR3</td>\n",
       "      <td>21.879999</td>\n",
       "      <td>-2.365019</td>\n",
       "      <td>8.261428</td>\n",
       "      <td>60</td>\n",
       "      <td>163</td>\n",
       "      <td>70.55</td>\n",
       "      <td>1.388</td>\n",
       "      <td>38.79</td>\n",
       "      <td>0.57</td>\n",
       "      <td>5</td>\n",
       "      <td>97.92340</td>\n",
       "    </tr>\n",
       "    <tr>\n",
       "      <th>30</th>\n",
       "      <td>UGPA3</td>\n",
       "      <td>23.600000</td>\n",
       "      <td>-1.543592</td>\n",
       "      <td>7.321435</td>\n",
       "      <td>24</td>\n",
       "      <td>238</td>\n",
       "      <td>68.07</td>\n",
       "      <td>1.403</td>\n",
       "      <td>43.53</td>\n",
       "      <td>0.53</td>\n",
       "      <td>5</td>\n",
       "      <td>95.50221</td>\n",
       "    </tr>\n",
       "    <tr>\n",
       "      <th>31</th>\n",
       "      <td>VALE3</td>\n",
       "      <td>63.240002</td>\n",
       "      <td>-1.017370</td>\n",
       "      <td>4.424157</td>\n",
       "      <td>31</td>\n",
       "      <td>224</td>\n",
       "      <td>66.96</td>\n",
       "      <td>1.401</td>\n",
       "      <td>46.04</td>\n",
       "      <td>0.68</td>\n",
       "      <td>5</td>\n",
       "      <td>93.81096</td>\n",
       "    </tr>\n",
       "    <tr>\n",
       "      <th>32</th>\n",
       "      <td>ARZZ3</td>\n",
       "      <td>50.180000</td>\n",
       "      <td>-1.588549</td>\n",
       "      <td>7.828382</td>\n",
       "      <td>23</td>\n",
       "      <td>236</td>\n",
       "      <td>69.07</td>\n",
       "      <td>1.345</td>\n",
       "      <td>33.14</td>\n",
       "      <td>0.69</td>\n",
       "      <td>5</td>\n",
       "      <td>92.89915</td>\n",
       "    </tr>\n",
       "    <tr>\n",
       "      <th>33</th>\n",
       "      <td>ALPA3</td>\n",
       "      <td>9.500000</td>\n",
       "      <td>-2.564103</td>\n",
       "      <td>4.696960</td>\n",
       "      <td>68</td>\n",
       "      <td>227</td>\n",
       "      <td>70.48</td>\n",
       "      <td>1.311</td>\n",
       "      <td>51.98</td>\n",
       "      <td>0.76</td>\n",
       "      <td>4</td>\n",
       "      <td>92.39928</td>\n",
       "    </tr>\n",
       "    <tr>\n",
       "      <th>34</th>\n",
       "      <td>JBSS3</td>\n",
       "      <td>28.910000</td>\n",
       "      <td>-0.138172</td>\n",
       "      <td>10.201851</td>\n",
       "      <td>9</td>\n",
       "      <td>224</td>\n",
       "      <td>71.43</td>\n",
       "      <td>1.274</td>\n",
       "      <td>53.80</td>\n",
       "      <td>0.58</td>\n",
       "      <td>5</td>\n",
       "      <td>91.00182</td>\n",
       "    </tr>\n",
       "    <tr>\n",
       "      <th>35</th>\n",
       "      <td>AURE3</td>\n",
       "      <td>12.040000</td>\n",
       "      <td>-0.986841</td>\n",
       "      <td>19.860363</td>\n",
       "      <td>65</td>\n",
       "      <td>233</td>\n",
       "      <td>68.67</td>\n",
       "      <td>1.314</td>\n",
       "      <td>31.25</td>\n",
       "      <td>0.37</td>\n",
       "      <td>5</td>\n",
       "      <td>90.23238</td>\n",
       "    </tr>\n",
       "    <tr>\n",
       "      <th>36</th>\n",
       "      <td>CRFB3</td>\n",
       "      <td>9.970000</td>\n",
       "      <td>-2.541538</td>\n",
       "      <td>6.476503</td>\n",
       "      <td>71</td>\n",
       "      <td>183</td>\n",
       "      <td>73.22</td>\n",
       "      <td>1.227</td>\n",
       "      <td>38.12</td>\n",
       "      <td>0.51</td>\n",
       "      <td>5</td>\n",
       "      <td>89.84094</td>\n",
       "    </tr>\n",
       "    <tr>\n",
       "      <th>37</th>\n",
       "      <td>EZTC3</td>\n",
       "      <td>12.760000</td>\n",
       "      <td>-1.085267</td>\n",
       "      <td>4.662526</td>\n",
       "      <td>10</td>\n",
       "      <td>235</td>\n",
       "      <td>68.94</td>\n",
       "      <td>1.301</td>\n",
       "      <td>47.51</td>\n",
       "      <td>0.65</td>\n",
       "      <td>5</td>\n",
       "      <td>89.69094</td>\n",
       "    </tr>\n",
       "    <tr>\n",
       "      <th>38</th>\n",
       "      <td>BRAP4</td>\n",
       "      <td>19.410000</td>\n",
       "      <td>-1.969694</td>\n",
       "      <td>6.368577</td>\n",
       "      <td>33</td>\n",
       "      <td>231</td>\n",
       "      <td>68.40</td>\n",
       "      <td>1.279</td>\n",
       "      <td>51.32</td>\n",
       "      <td>0.61</td>\n",
       "      <td>5</td>\n",
       "      <td>87.48360</td>\n",
       "    </tr>\n",
       "    <tr>\n",
       "      <th>39</th>\n",
       "      <td>SBSP3</td>\n",
       "      <td>74.690002</td>\n",
       "      <td>0.080404</td>\n",
       "      <td>21.124465</td>\n",
       "      <td>69</td>\n",
       "      <td>227</td>\n",
       "      <td>69.60</td>\n",
       "      <td>1.244</td>\n",
       "      <td>47.11</td>\n",
       "      <td>0.41</td>\n",
       "      <td>5</td>\n",
       "      <td>86.58240</td>\n",
       "    </tr>\n",
       "    <tr>\n",
       "      <th>40</th>\n",
       "      <td>FLRY3</td>\n",
       "      <td>14.140000</td>\n",
       "      <td>-2.482756</td>\n",
       "      <td>23.571156</td>\n",
       "      <td>17</td>\n",
       "      <td>240</td>\n",
       "      <td>67.92</td>\n",
       "      <td>1.274</td>\n",
       "      <td>53.97</td>\n",
       "      <td>0.57</td>\n",
       "      <td>5</td>\n",
       "      <td>86.53008</td>\n",
       "    </tr>\n",
       "    <tr>\n",
       "      <th>41</th>\n",
       "      <td>NTCO3</td>\n",
       "      <td>14.750000</td>\n",
       "      <td>-0.539447</td>\n",
       "      <td>0.216212</td>\n",
       "      <td>34</td>\n",
       "      <td>235</td>\n",
       "      <td>67.23</td>\n",
       "      <td>1.285</td>\n",
       "      <td>31.56</td>\n",
       "      <td>0.54</td>\n",
       "      <td>5</td>\n",
       "      <td>86.39055</td>\n",
       "    </tr>\n",
       "    <tr>\n",
       "      <th>42</th>\n",
       "      <td>ECOR3</td>\n",
       "      <td>6.970000</td>\n",
       "      <td>-1.274790</td>\n",
       "      <td>12.014758</td>\n",
       "      <td>63</td>\n",
       "      <td>242</td>\n",
       "      <td>66.53</td>\n",
       "      <td>1.286</td>\n",
       "      <td>40.46</td>\n",
       "      <td>0.60</td>\n",
       "      <td>5</td>\n",
       "      <td>85.55758</td>\n",
       "    </tr>\n",
       "    <tr>\n",
       "      <th>43</th>\n",
       "      <td>INEP4</td>\n",
       "      <td>1.900000</td>\n",
       "      <td>-3.061228</td>\n",
       "      <td>18.789610</td>\n",
       "      <td>47</td>\n",
       "      <td>246</td>\n",
       "      <td>71.14</td>\n",
       "      <td>1.194</td>\n",
       "      <td>51.56</td>\n",
       "      <td>1.85</td>\n",
       "      <td>4</td>\n",
       "      <td>84.94116</td>\n",
       "    </tr>\n",
       "    <tr>\n",
       "      <th>44</th>\n",
       "      <td>POSI3</td>\n",
       "      <td>9.150000</td>\n",
       "      <td>-0.974028</td>\n",
       "      <td>23.562998</td>\n",
       "      <td>20</td>\n",
       "      <td>235</td>\n",
       "      <td>70.64</td>\n",
       "      <td>1.128</td>\n",
       "      <td>68.96</td>\n",
       "      <td>0.73</td>\n",
       "      <td>5</td>\n",
       "      <td>79.68192</td>\n",
       "    </tr>\n",
       "    <tr>\n",
       "      <th>45</th>\n",
       "      <td>DXCO3</td>\n",
       "      <td>7.090000</td>\n",
       "      <td>-3.405994</td>\n",
       "      <td>2.254749</td>\n",
       "      <td>66</td>\n",
       "      <td>234</td>\n",
       "      <td>66.67</td>\n",
       "      <td>1.153</td>\n",
       "      <td>48.14</td>\n",
       "      <td>0.42</td>\n",
       "      <td>5</td>\n",
       "      <td>76.87051</td>\n",
       "    </tr>\n",
       "    <tr>\n",
       "      <th>46</th>\n",
       "      <td>RCSL3</td>\n",
       "      <td>4.760000</td>\n",
       "      <td>2.586215</td>\n",
       "      <td>14.084109</td>\n",
       "      <td>38</td>\n",
       "      <td>211</td>\n",
       "      <td>68.72</td>\n",
       "      <td>1.103</td>\n",
       "      <td>80.08</td>\n",
       "      <td>1.73</td>\n",
       "      <td>5</td>\n",
       "      <td>75.79816</td>\n",
       "    </tr>\n",
       "    <tr>\n",
       "      <th>47</th>\n",
       "      <td>ELET3</td>\n",
       "      <td>35.299999</td>\n",
       "      <td>-1.561632</td>\n",
       "      <td>2.364554</td>\n",
       "      <td>3</td>\n",
       "      <td>238</td>\n",
       "      <td>64.71</td>\n",
       "      <td>1.165</td>\n",
       "      <td>40.14</td>\n",
       "      <td>0.42</td>\n",
       "      <td>5</td>\n",
       "      <td>75.38715</td>\n",
       "    </tr>\n",
       "    <tr>\n",
       "      <th>48</th>\n",
       "      <td>INEP3</td>\n",
       "      <td>1.940000</td>\n",
       "      <td>-2.999997</td>\n",
       "      <td>17.108443</td>\n",
       "      <td>46</td>\n",
       "      <td>219</td>\n",
       "      <td>63.47</td>\n",
       "      <td>1.161</td>\n",
       "      <td>59.85</td>\n",
       "      <td>1.85</td>\n",
       "      <td>4</td>\n",
       "      <td>73.68867</td>\n",
       "    </tr>\n",
       "  </tbody>\n",
       "</table>\n",
       "</div>"
      ],
      "text/plain": [
       "    Ticker      Close       Var        RSI  index  Total Trades  Profitable %  \\\n",
       "0    TRPL3  34.500000 -1.597266  10.770215     52           193         83.94   \n",
       "1    VIVT3  44.660000 -1.478054   3.376247      2           248         77.42   \n",
       "2    PTNT4   7.000000 -1.129942  18.619840     48           219         78.08   \n",
       "3   TAEE11  34.560001 -0.917430   9.065575      1           220         76.35   \n",
       "4    CPLE6   9.230000 -0.859300   7.516777      0           237         71.31   \n",
       "5    ENGI3  14.040000 -2.702705  21.067846     41           194         73.23   \n",
       "6    MNPR3  11.280000 -1.913046   0.467059     37           239         76.99   \n",
       "7    BPAC3  16.070000 -1.652390  17.938508      8           144         69.44   \n",
       "8    EQTL3  29.410000 -1.737389  14.109241     11           235         73.19   \n",
       "9    CCRO3  12.110000 -1.223496  15.615738      6           247         70.85   \n",
       "10   EGIE3  43.639999 -0.342547  17.006164      7           230         70.87   \n",
       "11   SLCE3  17.950001 -2.286337   8.436089      4           220         72.73   \n",
       "12   ITUB3  27.209999 -0.511888   0.227000     18           250         72.40   \n",
       "13   ENEV3  12.430000 -2.738650   7.702456     36           227         70.48   \n",
       "14   VULC3  14.870000 -2.171052   3.771363     56           226         70.80   \n",
       "15   ABEV3  11.520000 -0.603966   0.160344     62           240         72.08   \n",
       "16   CPFE3  34.000000 -1.734100   5.671518     32           223         71.75   \n",
       "17   TOTS3  28.400000 -0.350879   5.443241     16           234         70.09   \n",
       "18   ATOM3   2.030000 -0.975609   8.553917     40           215         68.37   \n",
       "19   TIMS3  16.280001 -0.792195  11.989012     19           235         67.23   \n",
       "20   ITSA4   9.870000 -1.003013   2.255331     13           234         70.94   \n",
       "21  ENGI11  45.790001 -1.101508  21.324051     15           216         71.76   \n",
       "22   PRIO3  42.430000 -1.691380   5.946697     35           223         71.75   \n",
       "23   MGEL4  13.600000 -2.508957  14.489466     39           230         66.09   \n",
       "24   HYPE3  28.100000 -6.020064   3.430467     67           224         69.64   \n",
       "25   WEGE3  37.730000 -1.307873   0.675066     30           226         73.01   \n",
       "26   RENT3  44.000000 -1.256736   0.280446     21           236         72.88   \n",
       "27   B3SA3  10.880000 -1.716347   3.126209     14           233         68.24   \n",
       "28   RADL3  25.799999 -0.116147   1.334997     64           220         70.91   \n",
       "29   VBBR3  21.879999 -2.365019   8.261428     60           163         70.55   \n",
       "30   UGPA3  23.600000 -1.543592   7.321435     24           238         68.07   \n",
       "31   VALE3  63.240002 -1.017370   4.424157     31           224         66.96   \n",
       "32   ARZZ3  50.180000 -1.588549   7.828382     23           236         69.07   \n",
       "33   ALPA3   9.500000 -2.564103   4.696960     68           227         70.48   \n",
       "34   JBSS3  28.910000 -0.138172  10.201851      9           224         71.43   \n",
       "35   AURE3  12.040000 -0.986841  19.860363     65           233         68.67   \n",
       "36   CRFB3   9.970000 -2.541538   6.476503     71           183         73.22   \n",
       "37   EZTC3  12.760000 -1.085267   4.662526     10           235         68.94   \n",
       "38   BRAP4  19.410000 -1.969694   6.368577     33           231         68.40   \n",
       "39   SBSP3  74.690002  0.080404  21.124465     69           227         69.60   \n",
       "40   FLRY3  14.140000 -2.482756  23.571156     17           240         67.92   \n",
       "41   NTCO3  14.750000 -0.539447   0.216212     34           235         67.23   \n",
       "42   ECOR3   6.970000 -1.274790  12.014758     63           242         66.53   \n",
       "43   INEP4   1.900000 -3.061228  18.789610     47           246         71.14   \n",
       "44   POSI3   9.150000 -0.974028  23.562998     20           235         70.64   \n",
       "45   DXCO3   7.090000 -3.405994   2.254749     66           234         66.67   \n",
       "46   RCSL3   4.760000  2.586215  14.084109     38           211         68.72   \n",
       "47   ELET3  35.299999 -1.561632   2.364554      3           238         64.71   \n",
       "48   INEP3   1.940000 -2.999997  17.108443     46           219         63.47   \n",
       "\n",
       "    Gain Factor  Max Drawdown  Mean Transaction  Total Candles  \\\n",
       "0         3.439         18.58              1.69              4   \n",
       "1         2.769         13.94              0.99              4   \n",
       "2         2.548         42.63              1.87              4   \n",
       "3         2.576         14.87              0.82              5   \n",
       "4         2.521         38.86              1.09              5   \n",
       "5         2.430         24.43              1.66              4   \n",
       "6         2.209         47.55              4.38              4   \n",
       "7         2.034         26.99              1.22              4   \n",
       "8         1.883         36.45              0.80              5   \n",
       "9         1.837         27.18              0.86              5   \n",
       "10        1.751         14.22              0.62              5   \n",
       "11        1.701         30.12              0.91              5   \n",
       "12        1.703         25.29              0.56              5   \n",
       "13        1.723         42.14              1.31              4   \n",
       "14        1.684         43.90              1.60              5   \n",
       "15        1.623         39.99              0.52              5   \n",
       "16        1.589         43.96              0.54              4   \n",
       "17        1.609         39.75              0.90              5   \n",
       "18        1.613         60.84              0.93              5   \n",
       "19        1.591         25.99              0.55              5   \n",
       "20        1.474         31.41              0.54              5   \n",
       "21        1.450         32.07              0.60              4   \n",
       "22        1.426         72.00              1.15              5   \n",
       "23        1.545         51.44              1.85              4   \n",
       "24        1.466         28.37              0.48              5   \n",
       "25        1.379         44.28              0.59              5   \n",
       "26        1.361         55.13              0.71              5   \n",
       "27        1.453         36.20              0.79              5   \n",
       "28        1.392         36.03              0.56              5   \n",
       "29        1.388         38.79              0.57              5   \n",
       "30        1.403         43.53              0.53              5   \n",
       "31        1.401         46.04              0.68              5   \n",
       "32        1.345         33.14              0.69              5   \n",
       "33        1.311         51.98              0.76              4   \n",
       "34        1.274         53.80              0.58              5   \n",
       "35        1.314         31.25              0.37              5   \n",
       "36        1.227         38.12              0.51              5   \n",
       "37        1.301         47.51              0.65              5   \n",
       "38        1.279         51.32              0.61              5   \n",
       "39        1.244         47.11              0.41              5   \n",
       "40        1.274         53.97              0.57              5   \n",
       "41        1.285         31.56              0.54              5   \n",
       "42        1.286         40.46              0.60              5   \n",
       "43        1.194         51.56              1.85              4   \n",
       "44        1.128         68.96              0.73              5   \n",
       "45        1.153         48.14              0.42              5   \n",
       "46        1.103         80.08              1.73              5   \n",
       "47        1.165         40.14              0.42              5   \n",
       "48        1.161         59.85              1.85              4   \n",
       "\n",
       "    Greatness Factor  \n",
       "0          288.66966  \n",
       "1          214.37598  \n",
       "2          198.94784  \n",
       "3          196.67760  \n",
       "4          179.77251  \n",
       "5          177.94890  \n",
       "6          170.07091  \n",
       "7          141.24096  \n",
       "8          137.81677  \n",
       "9          130.15145  \n",
       "10         124.09337  \n",
       "11         123.71373  \n",
       "12         123.29720  \n",
       "13         121.43704  \n",
       "14         119.22720  \n",
       "15         116.98584  \n",
       "16         114.01075  \n",
       "17         112.77481  \n",
       "18         110.28081  \n",
       "19         106.96293  \n",
       "20         104.56556  \n",
       "21         104.05200  \n",
       "22         102.31550  \n",
       "23         102.10905  \n",
       "24         102.09224  \n",
       "25         100.68079  \n",
       "26          99.18968  \n",
       "27          99.15272  \n",
       "28          98.70672  \n",
       "29          97.92340  \n",
       "30          95.50221  \n",
       "31          93.81096  \n",
       "32          92.89915  \n",
       "33          92.39928  \n",
       "34          91.00182  \n",
       "35          90.23238  \n",
       "36          89.84094  \n",
       "37          89.69094  \n",
       "38          87.48360  \n",
       "39          86.58240  \n",
       "40          86.53008  \n",
       "41          86.39055  \n",
       "42          85.55758  \n",
       "43          84.94116  \n",
       "44          79.68192  \n",
       "45          76.87051  \n",
       "46          75.79816  \n",
       "47          75.38715  \n",
       "48          73.68867  "
      ]
     },
     "execution_count": 11,
     "metadata": {},
     "output_type": "execute_result"
    }
   ],
   "source": [
    "oversold_df"
   ]
  },
  {
   "cell_type": "code",
   "execution_count": null,
   "metadata": {},
   "outputs": [],
   "source": [
    "ascii_table = tabulate(df, headers='keys', tablefmt='grid')\n",
    "ascii_table"
   ]
  },
  {
   "cell_type": "code",
   "execution_count": null,
   "metadata": {},
   "outputs": [],
   "source": [
    "subject = \"IFR2 Screener - Daily Collection\",\n",
    "body = \"This is the body of the text message\",\n",
    "\n",
    "with open(\".secrets/\", \"r\") as file:\n",
    "   credentials = json.load(file)\n",
    "\n",
    "sender = credentials[\"sender\"]\n",
    "recipients = credentials[\"recipients\"]\n",
    "password = credentials[\"password\"]\n",
    "\n",
    "def send_email(subject, body, sender, recipients, password):\n",
    "    msg = MIMEText(body)\n",
    "    msg['Subject'] = subject\n",
    "    msg['From'] = sender\n",
    "    msg['To'] = ', '.join(recipients)\n",
    "    with smtplib.SMTP_SSL('smtp.gmail.com', 465) as smtp_server:\n",
    "       smtp_server.login(sender, password)\n",
    "       smtp_server.sendmail(sender, recipients, msg.as_string())\n",
    "    print(\"Message sent!\")\n",
    "\n",
    "send_email(subject, body, sender, recipients, password)"
   ]
  }
 ],
 "metadata": {
  "kernelspec": {
   "display_name": ".venv",
   "language": "python",
   "name": "python3"
  },
  "language_info": {
   "codemirror_mode": {
    "name": "ipython",
    "version": 3
   },
   "file_extension": ".py",
   "mimetype": "text/x-python",
   "name": "python",
   "nbconvert_exporter": "python",
   "pygments_lexer": "ipython3",
   "version": "3.11.8"
  }
 },
 "nbformat": 4,
 "nbformat_minor": 2
}
